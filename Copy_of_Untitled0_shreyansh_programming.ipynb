{
  "nbformat": 4,
  "nbformat_minor": 0,
  "metadata": {
    "colab": {
      "provenance": []
    },
    "kernelspec": {
      "display_name": "Python 3",
      "name": "python3"
    },
    "language_info": {
      "name": "python"
    }
  },
  "cells": [
    {
      "cell_type": "code",
      "metadata": {
        "colab": {
          "base_uri": "https://localhost:8080/"
        },
        "id": "dki6aBxzkdMG",
        "outputId": "d8e4d396-2bd1-46e4-c2a0-0e534fadf3fa"
      },
      "source": [
        "import platform\n",
        "x = platform.system()\n",
        "print(x)"
      ],
      "execution_count": 1,
      "outputs": [
        {
          "output_type": "stream",
          "name": "stdout",
          "text": [
            "Linux\n"
          ]
        }
      ]
    },
    {
      "cell_type": "code",
      "metadata": {
        "colab": {
          "background_save": true
        },
        "id": "gIU2_sVRYEWg",
        "outputId": "87ca37fd-fe9c-4939-849e-054e49156ce8"
      },
      "source": [
        "year = int(input(\"Enter a year=\"))\n",
        "\n",
        "if (year % 4) == 0:\n",
        "     if (year % 100) == 0:\n",
        "         if (year % 400) == 0:\n",
        "             print(\"{0} is a leap year\".format(year))\n",
        "         else:\n",
        "             print(\"{0} is not a leap year).format(year))\n",
        "      else:\n",
        "        print(\"{0} is a leap year\".format(year))\n",
        "else:\n",
        "  print(\"{0} is not a leap year\".format(year))\n",
        ""
      ],
      "execution_count": null,
      "outputs": [
        {
          "output_type": "error",
          "ename": "SyntaxError",
          "evalue": "ignored",
          "traceback": [
            "\u001b[0;36m  File \u001b[0;32m\"<ipython-input-8-7a46ad13cea1>\"\u001b[0;36m, line \u001b[0;32m8\u001b[0m\n\u001b[0;31m    print(\"{0} is not a leap year).format(year))\u001b[0m\n\u001b[0m                                                ^\u001b[0m\n\u001b[0;31mSyntaxError\u001b[0m\u001b[0;31m:\u001b[0m EOL while scanning string literal\n"
          ]
        }
      ]
    },
    {
      "cell_type": "code",
      "metadata": {
        "colab": {
          "base_uri": "https://localhost:8080/"
        },
        "id": "uIdC22T5aqEE",
        "outputId": "3d4b1192-96a2-403c-c12e-675a4e55c890"
      },
      "source": [
        "year = int(input(\"Enter a year: \"))\n",
        "\n",
        "if (year % 4) == 0:\n",
        "   if (year % 100) == 0:\n",
        "       if (year % 400) == 0:\n",
        "           print(\"{0} is a leap year\".format(year))\n",
        "       else:\n",
        "           print(\"{0} is not a leap year\".format(year))\n",
        "   else:\n",
        "       print(\"{0} is a leap year\".format(year))\n",
        "else:\n",
        "   print(\"{0} is not a leap year\".format(year))\n",
        ""
      ],
      "execution_count": null,
      "outputs": [
        {
          "output_type": "stream",
          "text": [
            "Enter a year: 2016\n",
            "2016 is a leap year\n"
          ],
          "name": "stdout"
        }
      ]
    },
    {
      "cell_type": "code",
      "metadata": {
        "colab": {
          "background_save": true
        },
        "id": "hJ1y6I3Yy3MR",
        "outputId": "81f903c8-ae2f-4840-e104-2214936c97b0"
      },
      "source": [
        "a = int(input(\"ENTER THE NUMBER:\"))\n",
        "for i in range(2,a):\n",
        "if i%2==0:\n",
        "print( \" THE NUMBER IS COMPOSITE NUMBER.\")\n",
        "else:\n",
        "print(\"THE NUMBER IS PRIME NUMBER\")"
      ],
      "execution_count": null,
      "outputs": [
        {
          "output_type": "error",
          "ename": "IndentationError",
          "evalue": "ignored",
          "traceback": [
            "\u001b[0;36m  File \u001b[0;32m\"<ipython-input-5-194895f29b13>\"\u001b[0;36m, line \u001b[0;32m3\u001b[0m\n\u001b[0;31m    if i%2==0:\u001b[0m\n\u001b[0m     ^\u001b[0m\n\u001b[0;31mIndentationError\u001b[0m\u001b[0;31m:\u001b[0m expected an indented block\n"
          ]
        }
      ]
    },
    {
      "cell_type": "code",
      "metadata": {
        "colab": {
          "base_uri": "https://localhost:8080/"
        },
        "id": "OBARzptsu1Po",
        "outputId": "1553ff90-f978-41f2-eb04-42f9d67d6a6f"
      },
      "source": [
        "a = int(input(\"Enter the radius:\"))\n",
        "area = 3.14*a*a\n",
        "print(\"The area of circle is : \", area)"
      ],
      "execution_count": null,
      "outputs": [
        {
          "output_type": "stream",
          "text": [
            "Enter the radius:7\n",
            "The area of circle is :  153.86\n"
          ],
          "name": "stdout"
        }
      ]
    },
    {
      "cell_type": "code",
      "metadata": {
        "colab": {
          "base_uri": "https://localhost:8080/"
        },
        "id": "z3YGav-JZZGY",
        "outputId": "55adbfd9-256c-4d5f-ac4b-cae8b840be1c"
      },
      "source": [
        "a = float(input(\"Enter the radius : \"))\n",
        "area = 3.14*a*a\n",
        "print(\"The area of circle is:\",area)"
      ],
      "execution_count": null,
      "outputs": [
        {
          "output_type": "stream",
          "text": [
            "Enter the radius : 7.6\n",
            "The area of circle is: 181.3664\n"
          ],
          "name": "stdout"
        }
      ]
    },
    {
      "cell_type": "code",
      "metadata": {
        "id": "iFsODvE74oBY"
      },
      "source": [
        "def __init__(Self,nmae,age):\n",
        "  Self.name = name\n",
        "  Self.age = age\n",
        "def myfunc(Self):\n",
        "   print(\"Hello,my name is\"+Self.name)\n",
        "   p1 = person(\"John\",36)\n",
        "   p1.myfunc()"
      ],
      "execution_count": null,
      "outputs": []
    },
    {
      "cell_type": "code",
      "metadata": {
        "colab": {
          "base_uri": "https://localhost:8080/"
        },
        "id": "DnYhHA584H3w",
        "outputId": "c348b87e-449b-4441-c5e3-fc8b48ee62dd"
      },
      "source": [
        "class myclass:\n",
        "    x = 5\n",
        "p1 = myclass()\n",
        "print(p1.x)"
      ],
      "execution_count": null,
      "outputs": [
        {
          "output_type": "stream",
          "text": [
            "5\n"
          ],
          "name": "stdout"
        }
      ]
    },
    {
      "cell_type": "code",
      "metadata": {
        "colab": {
          "base_uri": "https://localhost:8080/"
        },
        "id": "XMTo0iT9c1xj",
        "outputId": "733a52bc-02a0-49a9-c92e-80f3423aca64"
      },
      "source": [
        "x = min(5,10,25)\n",
        "y = max(5,10,25)\n",
        "print(x)\n",
        "print(y)"
      ],
      "execution_count": null,
      "outputs": [
        {
          "output_type": "stream",
          "text": [
            "5\n",
            "25\n"
          ],
          "name": "stdout"
        }
      ]
    },
    {
      "cell_type": "code",
      "metadata": {
        "colab": {
          "base_uri": "https://localhost:8080/",
          "height": 129
        },
        "id": "KurHcnadZv7j",
        "outputId": "03c12236-b937-41db-d079-99af106e33d1"
      },
      "source": [
        "person1 = {\n",
        "    \"name\": \"Sunny\",\n",
        "    \"age\" : 23,\n",
        "    \"Country: \"India\"\n",
        "}\n",
        "import mymodule\n",
        "a = mymodule.person1[\"age\"]\n",
        "print(a)"
      ],
      "execution_count": null,
      "outputs": [
        {
          "output_type": "error",
          "ename": "SyntaxError",
          "evalue": "ignored",
          "traceback": [
            "\u001b[0;36m  File \u001b[0;32m\"<ipython-input-35-513ffe51a4fd>\"\u001b[0;36m, line \u001b[0;32m4\u001b[0m\n\u001b[0;31m    \"Country: \"India\"\u001b[0m\n\u001b[0m                   ^\u001b[0m\n\u001b[0;31mSyntaxError\u001b[0m\u001b[0;31m:\u001b[0m invalid syntax\n"
          ]
        }
      ]
    },
    {
      "cell_type": "code",
      "metadata": {
        "colab": {
          "base_uri": "https://localhost:8080/",
          "height": 129
        },
        "id": "KOZqUebwcRBS",
        "outputId": "dc6d9366-f9e1-4203-90fa-ef6ca7700121"
      },
      "source": [
        "person1 = {\n",
        "    \"name\": \" Sunny \",\n",
        "    \"age\" : 23,\n",
        "    \"Country: \"x\"\n",
        "}\n",
        "from mymodule import person1\n",
        "print(person1[\"age\"])"
      ],
      "execution_count": null,
      "outputs": [
        {
          "output_type": "error",
          "ename": "SyntaxError",
          "evalue": "ignored",
          "traceback": [
            "\u001b[0;36m  File \u001b[0;32m\"<ipython-input-38-e7097f699488>\"\u001b[0;36m, line \u001b[0;32m4\u001b[0m\n\u001b[0;31m    \"Country: \"x\"\u001b[0m\n\u001b[0m               ^\u001b[0m\n\u001b[0;31mSyntaxError\u001b[0m\u001b[0;31m:\u001b[0m invalid syntax\n"
          ]
        }
      ]
    },
    {
      "cell_type": "code",
      "metadata": {
        "colab": {
          "base_uri": "https://localhost:8080/",
          "height": 367
        },
        "id": "Z8haO0pubueV",
        "outputId": "a3d12e25-5d2f-4697-b050-1eec2b1010cf"
      },
      "source": [
        "person1 = {\n",
        "  \"name\": \"John\",\n",
        "  \"age\": 36,\n",
        "  \"country\": \"Norway\"\n",
        "}\n",
        "import mymodule\n",
        "\n",
        "a = mymodule.person1[\"age\"]\n",
        "print(a)\n"
      ],
      "execution_count": null,
      "outputs": [
        {
          "output_type": "error",
          "ename": "ModuleNotFoundError",
          "evalue": "ignored",
          "traceback": [
            "\u001b[0;31m---------------------------------------------------------------------------\u001b[0m",
            "\u001b[0;31mModuleNotFoundError\u001b[0m                       Traceback (most recent call last)",
            "\u001b[0;32m<ipython-input-34-a1607aef4dab>\u001b[0m in \u001b[0;36m<module>\u001b[0;34m()\u001b[0m\n\u001b[1;32m      4\u001b[0m   \u001b[0;34m\"country\"\u001b[0m\u001b[0;34m:\u001b[0m \u001b[0;34m\"Norway\"\u001b[0m\u001b[0;34m\u001b[0m\u001b[0;34m\u001b[0m\u001b[0m\n\u001b[1;32m      5\u001b[0m }\n\u001b[0;32m----> 6\u001b[0;31m \u001b[0;32mimport\u001b[0m \u001b[0mmymodule\u001b[0m\u001b[0;34m\u001b[0m\u001b[0;34m\u001b[0m\u001b[0m\n\u001b[0m\u001b[1;32m      7\u001b[0m \u001b[0;34m\u001b[0m\u001b[0m\n\u001b[1;32m      8\u001b[0m \u001b[0ma\u001b[0m \u001b[0;34m=\u001b[0m \u001b[0mmymodule\u001b[0m\u001b[0;34m.\u001b[0m\u001b[0mperson1\u001b[0m\u001b[0;34m[\u001b[0m\u001b[0;34m\"age\"\u001b[0m\u001b[0;34m]\u001b[0m\u001b[0;34m\u001b[0m\u001b[0;34m\u001b[0m\u001b[0m\n",
            "\u001b[0;31mModuleNotFoundError\u001b[0m: No module named 'mymodule'",
            "",
            "\u001b[0;31m---------------------------------------------------------------------------\u001b[0;32m\nNOTE: If your import is failing due to a missing package, you can\nmanually install dependencies using either !pip or !apt.\n\nTo view examples of installing some common dependencies, click the\n\"Open Examples\" button below.\n\u001b[0;31m---------------------------------------------------------------------------\u001b[0m\n"
          ]
        }
      ]
    },
    {
      "cell_type": "code",
      "metadata": {
        "colab": {
          "base_uri": "https://localhost:8080/"
        },
        "id": "gm7rs-eRYppF",
        "outputId": "1dbdead6-4574-4ec4-bb56-d04f55fd0306"
      },
      "source": [
        "import platform\n",
        "\n",
        "X = platform.system()\n",
        "\n",
        "print(X)"
      ],
      "execution_count": null,
      "outputs": [
        {
          "output_type": "stream",
          "text": [
            "Linux\n"
          ],
          "name": "stdout"
        }
      ]
    },
    {
      "cell_type": "code",
      "metadata": {
        "colab": {
          "base_uri": "https://localhost:8080/"
        },
        "id": "Nnl08umqXyK5",
        "outputId": "6dc23048-89df-4bcc-e2c4-1b8b2c44d90d"
      },
      "source": [
        "def myfunc(n):\n",
        "    return lambda a : a*n\n",
        "mydoubler = myfunc(2)\n",
        "mytripler = myfunc(3)\n",
        "print(mydoubler(11))\n",
        "print(mytripler(22))"
      ],
      "execution_count": null,
      "outputs": [
        {
          "output_type": "stream",
          "text": [
            "22\n",
            "66\n"
          ],
          "name": "stdout"
        }
      ]
    },
    {
      "cell_type": "code",
      "metadata": {
        "colab": {
          "base_uri": "https://localhost:8080/"
        },
        "id": "HIWTqmi3XKP2",
        "outputId": "bad4286e-df88-4670-8c7e-e209e92a20aa"
      },
      "source": [
        "x = lambda a,b,c : a+b+c\n",
        "print(x (5,6,2))"
      ],
      "execution_count": null,
      "outputs": [
        {
          "output_type": "stream",
          "text": [
            "13\n"
          ],
          "name": "stdout"
        }
      ]
    },
    {
      "cell_type": "code",
      "metadata": {
        "colab": {
          "base_uri": "https://localhost:8080/"
        },
        "id": "ULelmwjgVAjF",
        "outputId": "fce036b5-6a28-4117-bf08-d3dfaf8a54e2"
      },
      "source": [
        "cars = [\"BMW\",\"HONDA CITY\",\"JAGUAR\"]\n",
        "cars.append(\"CIAZ\")\n",
        "\n",
        "print(cars)"
      ],
      "execution_count": null,
      "outputs": [
        {
          "output_type": "stream",
          "text": [
            "['BMW', 'HONDA CITY', 'JAGUAR', 'CIAZ']\n"
          ],
          "name": "stdout"
        }
      ]
    },
    {
      "cell_type": "code",
      "metadata": {
        "colab": {
          "base_uri": "https://localhost:8080/"
        },
        "id": "fJQTJE5IUfXo",
        "outputId": "cb470eab-833c-4d89-d74c-a946a6b3e67c"
      },
      "source": [
        "num1 = int(input(\"Enter a number:\"))\n",
        "num2 = int(input(\"Enter a number:\"))\n",
        "mul = num1*num2\n",
        "print(\"The product of two given numbers are as follows:\",mul)"
      ],
      "execution_count": null,
      "outputs": [
        {
          "output_type": "stream",
          "text": [
            "Enter a number:34\n",
            "Enter a number:34\n",
            "The product of two given numbers are as follows: 1156\n"
          ],
          "name": "stdout"
        }
      ]
    },
    {
      "cell_type": "code",
      "metadata": {
        "id": "NfjEGzRZprZp"
      },
      "source": [
        "thislist =[1,3,6,7,89,90,100,101,1234]\n",
        "thislist.sort()\n",
        "print(thislist)"
      ],
      "execution_count": null,
      "outputs": []
    },
    {
      "cell_type": "code",
      "metadata": {
        "colab": {
          "base_uri": "https://localhost:8080/"
        },
        "id": "SCJiYaM5T2w2",
        "outputId": "db444588-a87d-4d24-d481-afbff767e1d8"
      },
      "source": [
        "num = [1,3,2,4,5]\n",
        "num.sort()\n",
        "print(num)"
      ],
      "execution_count": null,
      "outputs": [
        {
          "output_type": "stream",
          "text": [
            "[1, 2, 3, 4, 5]\n"
          ],
          "name": "stdout"
        }
      ]
    },
    {
      "cell_type": "code",
      "metadata": {
        "id": "PocRkhSGMCeg"
      },
      "source": [
        "for i in range(5):\n",
        "  print(\""
      ],
      "execution_count": null,
      "outputs": []
    },
    {
      "cell_type": "code",
      "metadata": {
        "colab": {
          "base_uri": "https://localhost:8080/"
        },
        "id": "3Ch1Eqw1llkr",
        "outputId": "9f2fd782-9281-4fb2-9137-427f2709a1ba"
      },
      "source": [
        "a = [1,4,7,8,3,5,6,9,2]\n",
        "a.sort()\n",
        "print(a)"
      ],
      "execution_count": null,
      "outputs": [
        {
          "output_type": "stream",
          "text": [
            "[1, 2, 3, 4, 5, 6, 7, 8, 9]\n"
          ],
          "name": "stdout"
        }
      ]
    },
    {
      "cell_type": "code",
      "metadata": {
        "colab": {
          "base_uri": "https://localhost:8080/"
        },
        "id": "gqkTgqFom5Ep",
        "outputId": "bb64c2a2-d398-49ec-c01e-6487689f6cdd"
      },
      "source": [
        "a = [\"Arijit\",\"Sam\",\"Bardock\",\"Goku\",\"Vegeta\",\"Gohan\",\"Freeza\",\"Cell\"]\n",
        "a.sort()\n",
        "print(a)\n"
      ],
      "execution_count": null,
      "outputs": [
        {
          "output_type": "stream",
          "text": [
            "['Arijit', 'Bardock', 'Cell', 'Freeza', 'Gohan', 'Goku', 'Sam', 'Vegeta']\n"
          ],
          "name": "stdout"
        }
      ]
    },
    {
      "cell_type": "code",
      "metadata": {
        "colab": {
          "base_uri": "https://localhost:8080/"
        },
        "id": "AdL3NoMQbilD",
        "outputId": "3afee705-9f8c-4101-f2af-5d619d59e4a9"
      },
      "source": [
        "a = [1,2,3,4]\n",
        "b = [4,6,7,8]\n",
        "a.append(b)\n",
        "print(a)"
      ],
      "execution_count": null,
      "outputs": [
        {
          "output_type": "stream",
          "text": [
            "[1, 2, 3, 4, [4, 6, 7, 8]]\n"
          ],
          "name": "stdout"
        }
      ]
    },
    {
      "cell_type": "code",
      "metadata": {
        "colab": {
          "base_uri": "https://localhost:8080/"
        },
        "id": "br03WTh2XgXi",
        "outputId": "fab070f9-4071-40f7-f268-34c1b1cbb295"
      },
      "source": [
        "list = [1,2,3,1,4,1,2,5,1,2,3,1]\n",
        "print(\"Number of occurrence of given number is\",list.count(1))"
      ],
      "execution_count": null,
      "outputs": [
        {
          "output_type": "stream",
          "text": [
            "Number of occurrence of given number is 5\n"
          ],
          "name": "stdout"
        }
      ]
    },
    {
      "cell_type": "code",
      "metadata": {
        "colab": {
          "base_uri": "https://localhost:8080/",
          "height": 129
        },
        "id": "U4_PkT3raYJ7",
        "outputId": "2c3add84-a8f1-4c64-f96b-ccdc2fe1175e"
      },
      "source": [
        "word = input(\"Give A word to reverse:\")\n",
        " for char in range(len(word)-1,-1,-1):\n",
        "   print(word[char],end=\"\")"
      ],
      "execution_count": null,
      "outputs": [
        {
          "output_type": "error",
          "ename": "IndentationError",
          "evalue": "ignored",
          "traceback": [
            "\u001b[0;36m  File \u001b[0;32m\"<ipython-input-24-8e1f4c50e092>\"\u001b[0;36m, line \u001b[0;32m2\u001b[0m\n\u001b[0;31m    for char in range(len(word)-1,-1,-1):\u001b[0m\n\u001b[0m    ^\u001b[0m\n\u001b[0;31mIndentationError\u001b[0m\u001b[0;31m:\u001b[0m unexpected indent\n"
          ]
        }
      ]
    },
    {
      "cell_type": "code",
      "metadata": {
        "colab": {
          "base_uri": "https://localhost:8080/",
          "height": 129
        },
        "id": "GbMIJaosbfGN",
        "outputId": "d4030af2-f7a1-48a0-eace-4c15c3281703"
      },
      "source": [
        "word = input(\"Give A Word to Reverse: \")\n",
        " for char in range(len(word) - 1, -1, -1):\n",
        "  print(word[char], end=\"\")"
      ],
      "execution_count": null,
      "outputs": [
        {
          "output_type": "error",
          "ename": "IndentationError",
          "evalue": "ignored",
          "traceback": [
            "\u001b[0;36m  File \u001b[0;32m\"<ipython-input-1-b74510258b9f>\"\u001b[0;36m, line \u001b[0;32m2\u001b[0m\n\u001b[0;31m    for char in range(len(word) - 1, -1, -1):\u001b[0m\n\u001b[0m    ^\u001b[0m\n\u001b[0;31mIndentationError\u001b[0m\u001b[0;31m:\u001b[0m unexpected indent\n"
          ]
        }
      ]
    },
    {
      "cell_type": "code",
      "metadata": {
        "colab": {
          "base_uri": "https://localhost:8080/"
        },
        "id": "xWA4cOklZRIW",
        "outputId": "370748cb-1b29-4ae8-a439-afbf5bfc4ce6"
      },
      "source": [
        "list = [1,2,3,1,4,1,2,5,1,2,3,1]\n",
        "print(\"Number Of occurrence of given number is\",list.count(1))"
      ],
      "execution_count": null,
      "outputs": [
        {
          "output_type": "stream",
          "text": [
            "Number Of occurrence of given number is 5\n"
          ],
          "name": "stdout"
        }
      ]
    },
    {
      "cell_type": "code",
      "metadata": {
        "colab": {
          "base_uri": "https://localhost:8080/"
        },
        "id": "C0bfmPCBRMZ1",
        "outputId": "11999eb9-cdee-4e20-ec6e-dde8920efd04"
      },
      "source": [
        "from math import pi\n",
        "r = float(input(\"Enter the Radius of circle: \"))\n",
        "print(\"The area of circle is\" + str(r) + \" is: \" + str(pi * r**2))"
      ],
      "execution_count": null,
      "outputs": [
        {
          "output_type": "stream",
          "text": [
            "Enter the Radius of circle: 4.20\n",
            "The area of circle is4.2 is: 55.41769440932395\n"
          ],
          "name": "stdout"
        }
      ]
    },
    {
      "cell_type": "code",
      "metadata": {
        "colab": {
          "base_uri": "https://localhost:8080/"
        },
        "id": "mWM0wmwITiyB",
        "outputId": "618d0029-784e-42f0-f2b0-d2e254683517"
      },
      "source": [
        "list=[1,2,3,4,5,6,7,8,9,-99999]\n",
        "print(\"Even numbers are\")\n",
        "for x in list:\n",
        "     if not x%2:\n",
        "       print(x,end='')"
      ],
      "execution_count": null,
      "outputs": [
        {
          "output_type": "stream",
          "text": [
            "Even numbers are\n",
            "2468"
          ],
          "name": "stdout"
        }
      ]
    },
    {
      "cell_type": "code",
      "metadata": {
        "colab": {
          "base_uri": "https://localhost:8080/"
        },
        "id": "uOHpnKJ6S28e",
        "outputId": "91de8f6c-7c21-4913-9910-b6a1c6423375"
      },
      "source": [
        "from math import pi\n",
        "r = float(input (\"Enter the Radius of circle: \"))\n",
        "print (\"The area of the circle is\" + str(r) + \" is: \" + str(pi * r**2))"
      ],
      "execution_count": null,
      "outputs": [
        {
          "output_type": "stream",
          "text": [
            "Enter the Radius of circle: 5\n",
            "The area of the circle is5.0 is: 78.53981633974483\n"
          ],
          "name": "stdout"
        }
      ]
    },
    {
      "cell_type": "code",
      "metadata": {
        "colab": {
          "base_uri": "https://localhost:8080/"
        },
        "id": "JQrerDZWOUzm",
        "outputId": "29a4ed42-6dc0-4070-aa1f-9143fe0e6999"
      },
      "source": [
        "n = int(input('Enter the number:'))\n",
        "if n<0:\n",
        "  print(\"Given number is negative\")\n",
        "elif n==2:\n",
        "    print(n,\"is prime\")\n",
        "else:\n",
        "  for i in range(2,n):\n",
        "      if (n%i)==0:\n",
        "        print(n,\"is not prime\")\n",
        "        break\n",
        "  else:\n",
        "     print(n,\"is prime number\")"
      ],
      "execution_count": null,
      "outputs": [
        {
          "output_type": "stream",
          "text": [
            "Enter the number:-8\n",
            "Given number is negative\n"
          ],
          "name": "stdout"
        }
      ]
    },
    {
      "cell_type": "code",
      "metadata": {
        "colab": {
          "base_uri": "https://localhost:8080/"
        },
        "id": "D8Fm384H31zb",
        "outputId": "41b1a837-2418-4075-b646-dd5fb69ae247"
      },
      "source": [
        "num = 2\n",
        "for i in range(1, 21):\n",
        "    print(num,'x',i,'=',num*i)"
      ],
      "execution_count": null,
      "outputs": [
        {
          "output_type": "stream",
          "text": [
            "2 x 1 = 2\n",
            "2 x 2 = 4\n",
            "2 x 3 = 6\n",
            "2 x 4 = 8\n",
            "2 x 5 = 10\n",
            "2 x 6 = 12\n",
            "2 x 7 = 14\n",
            "2 x 8 = 16\n",
            "2 x 9 = 18\n",
            "2 x 10 = 20\n",
            "2 x 11 = 22\n",
            "2 x 12 = 24\n",
            "2 x 13 = 26\n",
            "2 x 14 = 28\n",
            "2 x 15 = 30\n",
            "2 x 16 = 32\n",
            "2 x 17 = 34\n",
            "2 x 18 = 36\n",
            "2 x 19 = 38\n",
            "2 x 20 = 40\n"
          ],
          "name": "stdout"
        }
      ]
    },
    {
      "cell_type": "code",
      "metadata": {
        "colab": {
          "base_uri": "https://localhost:8080/"
        },
        "id": "Kg8DbUuRNzJf",
        "outputId": "ded1d18f-f930-4e66-bd0a-9fffbf816060"
      },
      "source": [
        "num = 2\n",
        "for i in range(1,21):\n",
        "  print(num,'x',i,'=',num*i)"
      ],
      "execution_count": null,
      "outputs": [
        {
          "output_type": "stream",
          "text": [
            "2 x 1 = 2\n",
            "2 x 2 = 4\n",
            "2 x 3 = 6\n",
            "2 x 4 = 8\n",
            "2 x 5 = 10\n",
            "2 x 6 = 12\n",
            "2 x 7 = 14\n",
            "2 x 8 = 16\n",
            "2 x 9 = 18\n",
            "2 x 10 = 20\n",
            "2 x 11 = 22\n",
            "2 x 12 = 24\n",
            "2 x 13 = 26\n",
            "2 x 14 = 28\n",
            "2 x 15 = 30\n",
            "2 x 16 = 32\n",
            "2 x 17 = 34\n",
            "2 x 18 = 36\n",
            "2 x 19 = 38\n",
            "2 x 20 = 40\n"
          ],
          "name": "stdout"
        }
      ]
    },
    {
      "cell_type": "code",
      "metadata": {
        "colab": {
          "base_uri": "https://localhost:8080/"
        },
        "id": "5wcLvizF3vao",
        "outputId": "b56f70f0-22ea-4a70-b6ec-d44314a354fe"
      },
      "source": [
        "num = 12\n",
        "\n",
        "# To take input from the user\n",
        "# num = int(input(\"Display multiplication table of? \"))\n",
        "\n",
        "# Iterate 10 times from i = 1 to 10\n",
        "for i in range(1, 11):\n",
        "   print(num, 'x', i, '=', num*i)"
      ],
      "execution_count": null,
      "outputs": [
        {
          "output_type": "stream",
          "text": [
            "12 x 1 = 12\n",
            "12 x 2 = 24\n",
            "12 x 3 = 36\n",
            "12 x 4 = 48\n",
            "12 x 5 = 60\n",
            "12 x 6 = 72\n",
            "12 x 7 = 84\n",
            "12 x 8 = 96\n",
            "12 x 9 = 108\n",
            "12 x 10 = 120\n"
          ],
          "name": "stdout"
        }
      ]
    },
    {
      "cell_type": "code",
      "metadata": {
        "colab": {
          "base_uri": "https://localhost:8080/"
        },
        "id": "ti-QWgDh1uD3",
        "outputId": "1daa4151-1b14-462a-e8f8-ff8d31ea1755"
      },
      "source": [
        "lower = 900\n",
        "upper = 1000\n",
        "\n",
        "print(\"Prime numbers between\", lower, \"and\", upper, \"are:\")\n",
        "\n",
        "for num in range(lower, upper + 1):\n",
        "   # all prime numbers are greater than 1\n",
        "   if num > 1:\n",
        "       for i in range(2, num):\n",
        "           if (num % i) == 0:\n",
        "               break\n",
        "       else:\n",
        "           print(num)"
      ],
      "execution_count": null,
      "outputs": [
        {
          "output_type": "stream",
          "text": [
            "Prime numbers between 900 and 1000 are:\n",
            "907\n",
            "911\n",
            "919\n",
            "929\n",
            "937\n",
            "941\n",
            "947\n",
            "953\n",
            "967\n",
            "971\n",
            "977\n",
            "983\n",
            "991\n",
            "997\n"
          ],
          "name": "stdout"
        }
      ]
    },
    {
      "cell_type": "code",
      "metadata": {
        "colab": {
          "base_uri": "https://localhost:8080/"
        },
        "id": "sUfDC259zVYR",
        "outputId": "c714a7d2-0a61-46fd-b0f3-396cf48e024a"
      },
      "source": [
        "a = input(\"Enter any name:\")\n",
        "print(a.lower())"
      ],
      "execution_count": null,
      "outputs": [
        {
          "output_type": "stream",
          "text": [
            "Enter any name:shreyansh patil\n",
            "shreyansh patil\n"
          ],
          "name": "stdout"
        }
      ]
    },
    {
      "cell_type": "code",
      "metadata": {
        "colab": {
          "base_uri": "https://localhost:8080/"
        },
        "id": "pTsOHHA1yPOu",
        "outputId": "0b6af6ff-4e48-4c9c-f7d5-b9fc631f9e49"
      },
      "source": [
        "year = int(input(\"Enter a year:\"))\n",
        "if (year%4) == 0:\n",
        "  print(\"{0} is a leap year\".format(year))\n",
        "else:\n",
        "  print(\"{0} is not a leap year\".format(year))\n"
      ],
      "execution_count": null,
      "outputs": [
        {
          "output_type": "stream",
          "text": [
            "Enter a year:2000\n",
            "2000 is a leap year\n"
          ],
          "name": "stdout"
        }
      ]
    },
    {
      "cell_type": "code",
      "metadata": {
        "colab": {
          "base_uri": "https://localhost:8080/"
        },
        "id": "NVEXP6-CoIw0",
        "outputId": "b8c94146-0450-4a99-9ddc-979873c87888"
      },
      "source": [
        "num = int(input(\"Enter the number:\"))\n",
        "if (num%2) == 0:\n",
        "  print(\"{0} is even\".format(num))\n",
        "else:\n",
        "  print(\"{0} is odd\".format(num))"
      ],
      "execution_count": null,
      "outputs": [
        {
          "output_type": "stream",
          "text": [
            "Enter the number:2\n",
            "2 is even\n"
          ],
          "name": "stdout"
        }
      ]
    },
    {
      "cell_type": "code",
      "metadata": {
        "colab": {
          "base_uri": "https://localhost:8080/"
        },
        "id": "2h3SI-Edl5vF",
        "outputId": "2a840b6f-a236-4e69-c5fd-d41a24a9980e"
      },
      "source": [
        "num = int(input(\"Enter the number:\"))\n",
        "if (num%2) == 0:\n",
        "  print(\"{0} is even\".format(num))\n",
        "else:\n",
        "  print(\"{0} is odd\".format(num))"
      ],
      "execution_count": null,
      "outputs": [
        {
          "output_type": "stream",
          "text": [
            "Enter the number:5\n",
            "5 is odd\n"
          ],
          "name": "stdout"
        }
      ]
    },
    {
      "cell_type": "code",
      "metadata": {
        "colab": {
          "base_uri": "https://localhost:8080/"
        },
        "id": "MWYnsC_8bsb5",
        "outputId": "32e5f870-5580-46db-c115-357d6bba3ceb"
      },
      "source": [
        "num = float(input(\"Enter a element:\"))\n",
        "if num > 0:\n",
        "  print(\"Positive Number:\")\n",
        "elif num == 0:\n",
        "  print(\"Zero\")\n",
        "else:\n",
        "  print(\"Negative Number :\")"
      ],
      "execution_count": null,
      "outputs": [
        {
          "output_type": "stream",
          "text": [
            "Enter a element:3\n",
            "Positive Number:\n"
          ],
          "name": "stdout"
        }
      ]
    },
    {
      "cell_type": "code",
      "metadata": {
        "colab": {
          "base_uri": "https://localhost:8080/"
        },
        "id": "YQhd82vZbNB_",
        "outputId": "1b822b75-50e0-442d-db74-999856a59c71"
      },
      "source": [
        "celsius = 37.5\n",
        "\n",
        "fahrenheit = (celsius * 1.8) + 32\n",
        "\n",
        "print('%0.1f degree celsius is equal to %0.1f degree fahrenheit' %(celsius,fahrenheit))"
      ],
      "execution_count": null,
      "outputs": [
        {
          "output_type": "stream",
          "text": [
            "37.5 degree celsius is equal to 99.5 degree fahrenheit\n",
            "37.5 degree celsius is equal to 99.5 degree fahrenheit\n"
          ],
          "name": "stdout"
        }
      ]
    },
    {
      "cell_type": "code",
      "metadata": {
        "colab": {
          "base_uri": "https://localhost:8080/"
        },
        "id": "9hKD2p3dX4IT",
        "outputId": "f2c23891-e8ce-4729-bcce-d170ac718a17"
      },
      "source": [
        "kilometers = float(input('Enter the first value:'))\n",
        "\n",
        "conv_fac = 0.621371\n",
        "\n",
        "miles = kilometers * conv_fac\n",
        "print('%0.2f kiometers is equal to %0.2f miles'%(kilometers,miles))"
      ],
      "execution_count": null,
      "outputs": [
        {
          "output_type": "stream",
          "text": [
            "Enter the first value:3.50\n",
            "3.50 kiometers is equal to 2.17 miles\n"
          ],
          "name": "stdout"
        }
      ]
    },
    {
      "cell_type": "code",
      "metadata": {
        "colab": {
          "base_uri": "https://localhost:8080/"
        },
        "id": "ciDuE-QpV2M7",
        "outputId": "f19ed2a2-53f5-433c-f266-6c8807594130"
      },
      "source": [
        "import random\n",
        "print(random.randint(0,9))"
      ],
      "execution_count": null,
      "outputs": [
        {
          "output_type": "stream",
          "text": [
            "0\n"
          ],
          "name": "stdout"
        }
      ]
    },
    {
      "cell_type": "code",
      "metadata": {
        "colab": {
          "base_uri": "https://localhost:8080/"
        },
        "id": "_XFi6FlVUvrC",
        "outputId": "cbf1ba07-0832-498a-9871-45c326c2f2bc"
      },
      "source": [
        "x = int(input('Enter element:'))\n",
        "y = int(input('Enter element:'))\n",
        "\n",
        "temp = x\n",
        "x = y\n",
        "y = temp\n",
        "\n",
        "print('The value of x after swapping: {}'.format(x))\n",
        "print('The value of y after swapping: {}'.format(y))"
      ],
      "execution_count": null,
      "outputs": [
        {
          "output_type": "stream",
          "text": [
            "Enter element:15\n",
            "Enter element:34\n",
            "The value of x after swapping: 34\n",
            "The value of y after swapping: 15\n"
          ],
          "name": "stdout"
        }
      ]
    },
    {
      "cell_type": "code",
      "metadata": {
        "colab": {
          "base_uri": "https://localhost:8080/"
        },
        "id": "7ydCEDFIReVC",
        "outputId": "7efa68f8-507a-4e46-eaee-e57b0b997376"
      },
      "source": [
        "import cmath\n",
        "\n",
        "a = int(input('Enter the first element :'))\n",
        "b = int(input('Enter the second element :'))\n",
        "c = int(input('Enter the third element :'))\n",
        "\n",
        "d = (b**2) - (4*a*c)\n",
        "\n",
        "sol1 = (-b-cmath.sqrt(d)/(2*a))\n",
        "sol2 = (-b+cmath.sqrt(d)/(2*a))\n",
        "\n",
        "print('The solution are {0} and {1}'.format(sol1,sol2))"
      ],
      "execution_count": null,
      "outputs": [
        {
          "output_type": "stream",
          "text": [
            "Enter the first element :1\n",
            "Enter the second element :5\n",
            "Enter the third element :7\n",
            "The solution are (-5-0.8660254037844386j) and (-5+0.8660254037844386j)\n"
          ],
          "name": "stdout"
        }
      ]
    },
    {
      "cell_type": "code",
      "metadata": {
        "colab": {
          "base_uri": "https://localhost:8080/"
        },
        "id": "A3l8cRepNldW",
        "outputId": "45b20edd-85ea-4617-c172-b6609eb406cb"
      },
      "source": [
        "a = int(input('Enter the first element:'))\n",
        "b = int(input('Enter the second element:'))\n",
        "c = int(input('Enter the third element:'))\n",
        "\n",
        "s = (a + b + c) / 2\n",
        "\n",
        "area = (s*(s-a)*(s-b)*(s-c))** 0.5\n",
        "\n",
        "print('The area of the triangle is %0.2f'%area)"
      ],
      "execution_count": null,
      "outputs": [
        {
          "output_type": "stream",
          "text": [
            "The area of the triangle is 14.70\n"
          ],
          "name": "stdout"
        }
      ]
    },
    {
      "cell_type": "code",
      "metadata": {
        "colab": {
          "base_uri": "https://localhost:8080/"
        },
        "id": "InB-KFMNMJyF",
        "outputId": "e50dc6cd-c684-4ef1-b9d4-90c035f3a80b"
      },
      "source": [
        "num = int(input('Enter the number:'))\n",
        "num_sqrt = num** 0.5\n",
        "print('The square root of %0.3f is %0.3f'%(num ,num_sqrt))"
      ],
      "execution_count": null,
      "outputs": [
        {
          "output_type": "stream",
          "text": [
            "Enter the number:8\n",
            "The square root of 8.000 is 2.828\n"
          ],
          "name": "stdout"
        }
      ]
    },
    {
      "cell_type": "code",
      "metadata": {
        "colab": {
          "base_uri": "https://localhost:8080/"
        },
        "id": "DV-vSe8uK491",
        "outputId": "d56db61d-373f-4fff-a668-8cf54742ecb2"
      },
      "source": [
        "list('hello')\n"
      ],
      "execution_count": null,
      "outputs": [
        {
          "output_type": "execute_result",
          "data": {
            "text/plain": [
              "['h', 'e', 'l', 'l', 'o']"
            ]
          },
          "metadata": {
            "tags": []
          },
          "execution_count": 22
        }
      ]
    },
    {
      "cell_type": "code",
      "metadata": {
        "colab": {
          "base_uri": "https://localhost:8080/"
        },
        "id": "LJ_k6vcFKl23",
        "outputId": "6359ba67-dcec-419a-d8bc-99590183da92"
      },
      "source": [
        "set([1,2,3])\n"
      ],
      "execution_count": null,
      "outputs": [
        {
          "output_type": "execute_result",
          "data": {
            "text/plain": [
              "{1, 2, 3}"
            ]
          },
          "metadata": {
            "tags": []
          },
          "execution_count": 19
        }
      ]
    },
    {
      "cell_type": "code",
      "metadata": {
        "colab": {
          "base_uri": "https://localhost:8080/"
        },
        "id": "NqnpwJF7Jfmw",
        "outputId": "1f42d1a8-b530-48f7-b475-9e3653a2354f"
      },
      "source": [
        "dict = {1:'value','key':2}\n",
        "print(type(dict))"
      ],
      "execution_count": null,
      "outputs": [
        {
          "output_type": "stream",
          "text": [
            "<class 'dict'>\n",
            "<class 'dict'>\n"
          ],
          "name": "stdout"
        }
      ]
    },
    {
      "cell_type": "code",
      "metadata": {
        "colab": {
          "base_uri": "https://localhost:8080/"
        },
        "id": "DkpvXvdnKDGX",
        "outputId": "6dcd2c7d-ab1d-4491-bcd4-9d3ba8e63570"
      },
      "source": [
        "d = {1:'value','key':2}\n",
        "print(type(d))"
      ],
      "execution_count": null,
      "outputs": [
        {
          "output_type": "stream",
          "text": [
            "<class 'dict'>\n"
          ],
          "name": "stdout"
        }
      ]
    },
    {
      "cell_type": "code",
      "metadata": {
        "colab": {
          "base_uri": "https://localhost:8080/"
        },
        "id": "gTTrYmQ3H2s1",
        "outputId": "89e143ed-b207-48d3-acae-534050e73e81"
      },
      "source": [
        "d = {1:'value','key':2}\n",
        "print(type(a))\n",
        "print(\"d[1]\",d[1])\n",
        "print(\"d['key]\",d['key'])\n"
      ],
      "execution_count": null,
      "outputs": [
        {
          "output_type": "stream",
          "text": [
            "<class 'set'>\n",
            "d[1] value\n",
            "d['key] 2\n"
          ],
          "name": "stdout"
        }
      ]
    },
    {
      "cell_type": "code",
      "metadata": {
        "colab": {
          "base_uri": "https://localhost:8080/"
        },
        "id": "uzqE4_A9Hf1U",
        "outputId": "001c4551-c62b-4e61-8aa2-bd0125aa6af2"
      },
      "source": [
        "a = {1,2,2,2,3,3,3,3,3}\n",
        "print(a)\n",
        "print(type(a))\n",
        "print(\"a=\",a)"
      ],
      "execution_count": null,
      "outputs": [
        {
          "output_type": "stream",
          "text": [
            "{1, 2, 3}\n",
            "<class 'set'>\n",
            "a= {1, 2, 3}\n"
          ],
          "name": "stdout"
        }
      ]
    },
    {
      "cell_type": "code",
      "metadata": {
        "colab": {
          "base_uri": "https://localhost:8080/"
        },
        "id": "pAUFrS9dHDEm",
        "outputId": "6aea6f72-d532-4029-806e-451a25cf352d"
      },
      "source": [
        "a = {1,2,3,4,5,6,7,8,9}\n",
        "\n",
        "print(\"a=\",a)\n",
        "print(type(a))\n"
      ],
      "execution_count": null,
      "outputs": [
        {
          "output_type": "stream",
          "text": [
            "a= {1, 2, 3, 4, 5, 6, 7, 8, 9}\n",
            "<class 'set'>\n"
          ],
          "name": "stdout"
        }
      ]
    },
    {
      "cell_type": "code",
      "metadata": {
        "id": "GlWbydQXHCRA"
      },
      "source": [],
      "execution_count": null,
      "outputs": []
    },
    {
      "cell_type": "code",
      "metadata": {
        "colab": {
          "base_uri": "https://localhost:8080/"
        },
        "id": "K_yJhUc8F1q0",
        "outputId": "cb8518b9-c8d4-4f76-9d50-8c9ef1453ea9"
      },
      "source": [
        "s = \"Hello,world\"\n",
        "\n",
        "print(\"s[4]=\",s[4])\n",
        "\n",
        "print(\"s[6:11]=\",s[6:11])"
      ],
      "execution_count": null,
      "outputs": [
        {
          "output_type": "stream",
          "text": [
            "s[4]= o\n",
            "s[6:11]= world\n"
          ],
          "name": "stdout"
        }
      ]
    },
    {
      "cell_type": "code",
      "metadata": {
        "colab": {
          "base_uri": "https://localhost:8080/"
        },
        "id": "kk9C26jWE7Jf",
        "outputId": "596fecfc-3c8a-414a-dda7-e5bfadad2eff"
      },
      "source": [
        "a = 5\n",
        "print(a,\"is of type\",type(a))\n",
        "\n",
        "a = 2.0\n",
        "print(a,\"is of type\",type(a))\n",
        "\n",
        "a = 1+2j\n",
        "print(a,\"is of type\",type(a))"
      ],
      "execution_count": null,
      "outputs": [
        {
          "output_type": "stream",
          "text": [
            "5 is of type <class 'int'>\n",
            "2.0 is of type <class 'float'>\n",
            "(1+2j) is of type <class 'complex'>\n"
          ],
          "name": "stdout"
        }
      ]
    },
    {
      "cell_type": "code",
      "metadata": {
        "colab": {
          "base_uri": "https://localhost:8080/"
        },
        "id": "8yNk76A0CffR",
        "outputId": "df56a236-a306-42e7-d6a2-d6f3916b82d9"
      },
      "source": [
        "num1 = 1.5\n",
        "num2 = 6.3\n",
        "sum = num1 + num2\n",
        "print(\"the sum of {0} and {1} is {2}\".format(num1,num2,sum))"
      ],
      "execution_count": null,
      "outputs": [
        {
          "output_type": "stream",
          "text": [
            "the sum of 1.5 and 6.3 is 7.8\n"
          ],
          "name": "stdout"
        }
      ]
    },
    {
      "cell_type": "code",
      "metadata": {
        "colab": {
          "base_uri": "https://localhost:8080/"
        },
        "id": "G4I1ee-TDH7u",
        "outputId": "963eb37d-9537-439e-b682-9a8620fb819e"
      },
      "source": [
        "num1 = input(\"Enter the first number:\")\n",
        "num2 = input(\"Enter the second number:\")\n",
        "sum = float(num1) + float(num2)\n",
        "print(\"The sum of {0} and {1} is {2}\".format(num1,num2,sum))"
      ],
      "execution_count": null,
      "outputs": [
        {
          "output_type": "stream",
          "text": [
            "Enter the first number:34\n",
            "Enter the second number:72\n",
            "The sum of 34 and 72 is 106.0\n"
          ],
          "name": "stdout"
        }
      ]
    },
    {
      "cell_type": "code",
      "metadata": {
        "colab": {
          "base_uri": "https://localhost:8080/"
        },
        "id": "mtDxsAOqEMmh",
        "outputId": "8eaff333-ea44-4d6f-f231-dbab0b67350d"
      },
      "source": [
        "num1 = input(\"Enter the first number:\")\n",
        "num2 = input(\"Enter the second number:\")\n",
        "sum = int(num1) + int(num2)\n",
        "print(\"The sum of {0} and {1} is {2}\".format(num1,num2,sum))"
      ],
      "execution_count": null,
      "outputs": [
        {
          "output_type": "stream",
          "text": [
            "Enter the first number:34\n",
            "Enter the second number:72\n",
            "The sum of 34 and 72 is 106\n"
          ],
          "name": "stdout"
        }
      ]
    },
    {
      "cell_type": "code",
      "metadata": {
        "colab": {
          "base_uri": "https://localhost:8080/"
        },
        "id": "GsJ9RwCKvaFP",
        "outputId": "44ccd7c3-adf0-4c56-8e6a-8f35e710d005"
      },
      "source": [
        "def get_squared_numbers(numbers):\n",
        "    squared_numbers = []\n",
        "    for n in numbers:\n",
        "         squared_numbers.append(n*n)\n",
        "    return squared_numbers\n",
        "numbers = [2,3,4,5]\n",
        "get_squared_numbers(numbers)"
      ],
      "execution_count": null,
      "outputs": [
        {
          "output_type": "execute_result",
          "data": {
            "text/plain": [
              "[4, 9, 16, 25]"
            ]
          },
          "metadata": {
            "tags": []
          },
          "execution_count": 3
        }
      ]
    },
    {
      "cell_type": "code",
      "metadata": {
        "colab": {
          "base_uri": "https://localhost:8080/"
        },
        "id": "MnWPbMQllO2h",
        "outputId": "364c431e-bb23-42f2-ccdd-2f9a68158cf5"
      },
      "source": [
        "if __name__ == '__main__':\n",
        "    a = int(input())\n",
        "    b = int(input())\n",
        "\n",
        "    print(a+b)\n",
        "    print(a-b)\n",
        "    print(a*b)"
      ],
      "execution_count": null,
      "outputs": [
        {
          "output_type": "stream",
          "text": [
            "5\n",
            "9\n",
            "14\n",
            "-4\n",
            "45\n"
          ],
          "name": "stdout"
        }
      ]
    },
    {
      "cell_type": "code",
      "metadata": {
        "colab": {
          "base_uri": "https://localhost:8080/"
        },
        "id": "A6gnVPXUzSa4",
        "outputId": "051b16ff-324b-46a0-ed44-21128c0e8ab4"
      },
      "source": [
        "def _init_(numbers):\n",
        "    squared_numbers = []\n",
        "    for n in numbers:\n",
        "         squared_numbers.append(n*n)\n",
        "    return squared_numbers\n",
        "numbers = [2,3,4,5]\n",
        "_init_(numbers)"
      ],
      "execution_count": null,
      "outputs": [
        {
          "output_type": "execute_result",
          "data": {
            "text/plain": [
              "[4, 9, 16, 25]"
            ]
          },
          "metadata": {
            "tags": []
          },
          "execution_count": 5
        }
      ]
    },
    {
      "cell_type": "code",
      "metadata": {
        "colab": {
          "base_uri": "https://localhost:8080/"
        },
        "id": "oySxMnQCi8ta",
        "outputId": "877e42f0-acc4-4be6-e069-ad564e5820fb"
      },
      "source": [
        "a = 2\n",
        "b = 4\n",
        "maximum = max(a,b)\n",
        "print(maximum)"
      ],
      "execution_count": null,
      "outputs": [
        {
          "output_type": "stream",
          "text": [
            "4\n"
          ],
          "name": "stdout"
        }
      ]
    },
    {
      "cell_type": "code",
      "metadata": {
        "colab": {
          "base_uri": "https://localhost:8080/"
        },
        "id": "MBumJ-otE-KR",
        "outputId": "20a7b236-b22a-4d07-f14c-7963ee918811"
      },
      "source": [
        "a = []\n",
        "n = int(input(\"Enter number of elements:\"))\n",
        "for i in range(1,n+1):\n",
        "  b = int(input(\"Enter element:\"))\n",
        "  a.append(b)\n",
        "  a.sort()\n",
        "  print(\"Second largest element is:\",a[n-2])"
      ],
      "execution_count": null,
      "outputs": [
        {
          "output_type": "stream",
          "text": [
            "Enter number of elements:2\n",
            "Enter element12\n",
            "Second largest element is: 12\n",
            "Enter element10\n",
            "Second largest element is: 10\n"
          ],
          "name": "stdout"
        }
      ]
    },
    {
      "cell_type": "code",
      "metadata": {
        "colab": {
          "base_uri": "https://localhost:8080/"
        },
        "id": "YXq-KxTaZ-VI",
        "outputId": "9f511cd7-0e5e-4dcc-961c-6fcee59ff028"
      },
      "source": [
        "a = [98,52,23,41,32]\n",
        "a.sort()\n",
        "smallest = a[0]\n",
        "print(\"Smallest number is :\",smallest)"
      ],
      "execution_count": null,
      "outputs": [
        {
          "output_type": "stream",
          "text": [
            "Smallest number is : 23\n"
          ],
          "name": "stdout"
        }
      ]
    },
    {
      "cell_type": "code",
      "metadata": {
        "colab": {
          "base_uri": "https://localhost:8080/"
        },
        "id": "1ooCbFA2h014",
        "outputId": "14757825-91e5-4171-9bb9-53aa996355a1"
      },
      "source": [
        "a = [98,52,23,41,32]\n",
        "a.sort()\n",
        "smallest = a[0]\n",
        "print(\"Smallest number is :\",smallest)"
      ],
      "execution_count": null,
      "outputs": [
        {
          "output_type": "stream",
          "text": [
            "Smallest number is : 23\n"
          ],
          "name": "stdout"
        }
      ]
    },
    {
      "cell_type": "code",
      "metadata": {
        "colab": {
          "base_uri": "https://localhost:8080/"
        },
        "id": "-VNV14Y_afst",
        "outputId": "aa867e2a-8669-4a91-d275-5b8c07d422c6"
      },
      "source": [
        "num = int(input(\"Enter a number:\"))\n",
        "if (num%2)==0:\n",
        "  print(\"{0} is an even number\".format(num))\n",
        "else:\n",
        "   print(\"{0} is an odd number\".format(num))"
      ],
      "execution_count": null,
      "outputs": [
        {
          "output_type": "stream",
          "text": [
            "Enter a number:35\n",
            "35 is an odd number\n"
          ],
          "name": "stdout"
        }
      ]
    },
    {
      "cell_type": "code",
      "metadata": {
        "colab": {
          "base_uri": "https://localhost:8080/"
        },
        "id": "q9va8SDzdCHg",
        "outputId": "11555b5b-0916-44fa-f645-2659a2507050"
      },
      "source": [
        "i = 1\n",
        "while i<6:\n",
        "  print(i)\n",
        "  i=i+1"
      ],
      "execution_count": null,
      "outputs": [
        {
          "output_type": "stream",
          "text": [
            "1\n",
            "2\n",
            "3\n",
            "4\n",
            "5\n"
          ],
          "name": "stdout"
        }
      ]
    },
    {
      "cell_type": "code",
      "metadata": {
        "colab": {
          "base_uri": "https://localhost:8080/"
        },
        "id": "UXC5n4pkdXfH",
        "outputId": "775bac38-19a5-4f9a-a65c-5d40bc0fa83c"
      },
      "source": [
        "num = [1,2,3,4,5]\n",
        "for x in num:\n",
        "   print(x)"
      ],
      "execution_count": null,
      "outputs": [
        {
          "output_type": "stream",
          "text": [
            "1\n",
            "2\n",
            "3\n",
            "4\n",
            "5\n"
          ],
          "name": "stdout"
        }
      ]
    },
    {
      "cell_type": "code",
      "metadata": {
        "colab": {
          "base_uri": "https://localhost:8080/"
        },
        "id": "M7mus4JUDj65",
        "outputId": "6ea43c14-2c3b-4dac-f34b-0d6312a98e6b"
      },
      "source": [
        "n = int(input())\n",
        "if n%2==0:\n",
        "  if n in range(2,6):\n",
        "    print(\"not weird\")\n",
        "  elif n in range(6,21):\n",
        "    print(\"weird\")\n",
        "  elif n>20:\n",
        "     print(\"not weird\")\n",
        "else:\n",
        "  print(\"weird\")"
      ],
      "execution_count": null,
      "outputs": [
        {
          "output_type": "stream",
          "text": [
            "8\n",
            "weird\n"
          ],
          "name": "stdout"
        }
      ]
    },
    {
      "cell_type": "code",
      "metadata": {
        "colab": {
          "base_uri": "https://localhost:8080/"
        },
        "id": "pyxZXMrZtS_d",
        "outputId": "ff057bf9-7ec5-4a56-ae38-8a409bb8e2ff"
      },
      "source": [
        "\n",
        "a = \"My name is Shreyansh Patil\"\n",
        "print(a)."
      ],
      "execution_count": null,
      "outputs": [
        {
          "output_type": "stream",
          "text": [
            "My name is Shreyansh Patil\n"
          ],
          "name": "stdout"
        }
      ]
    },
    {
      "cell_type": "code",
      "metadata": {
        "colab": {
          "base_uri": "https://localhost:8080/"
        },
        "id": "V1G5mbNvtLJ3",
        "outputId": "2f553e1f-e05c-49f4-be04-1f55c7011a24"
      },
      "source": [
        "a = [1,2,3]\n",
        "\n",
        "try:\n",
        "  print('in try')\n",
        "  b = a[1]/6\n",
        "except Zerodivisionerror:\n",
        "  print('don\\'t dividde by 0')\n"
      ],
      "execution_count": null,
      "outputs": [
        {
          "output_type": "stream",
          "text": [
            "in try\n"
          ],
          "name": "stdout"
        }
      ]
    },
    {
      "cell_type": "code",
      "metadata": {
        "colab": {
          "base_uri": "https://localhost:8080/"
        },
        "id": "MgI56YaTuYll",
        "outputId": "7604e246-a19a-4c95-b495-d0ea322e6da4"
      },
      "source": [
        "class Xyz:\n",
        "  def __init__(self):\n",
        "    self.a = 'A'\n",
        "    self.b(self.a)\n",
        "  def b(self, value):\n",
        "    value = 'B'\n",
        "o = Xyz()\n",
        "print(o.b)\n"
      ],
      "execution_count": null,
      "outputs": [
        {
          "output_type": "stream",
          "text": [
            "<bound method Xyz.b of <__main__.Xyz object at 0x7ff037f37e90>>\n"
          ],
          "name": "stdout"
        }
      ]
    },
    {
      "cell_type": "code",
      "metadata": {
        "colab": {
          "base_uri": "https://localhost:8080/"
        },
        "id": "9ecbFTW9HcgH",
        "outputId": "581f2fff-8558-479f-f2c4-d1add7ca404e"
      },
      "source": [
        "num = int(input(\"Enter a number\"))\n",
        "if num>1:    #program on prime number\n",
        "   for i in range(2,num):\n",
        "     if (num%i)==0:\n",
        "      print(num,\"is not a prime number\")\n",
        "      print(i,\"time\",num//i,\"is\",num)\n",
        "      break\n",
        "   else:\n",
        "     print(num,\"is a prime number\")\n",
        "else:\n",
        "  print(num,\"is not a prime number\")"
      ],
      "execution_count": null,
      "outputs": [
        {
          "output_type": "stream",
          "text": [
            "Enter a number5\n",
            "5 is a prime number\n"
          ],
          "name": "stdout"
        }
      ]
    },
    {
      "cell_type": "code",
      "metadata": {
        "colab": {
          "base_uri": "https://localhost:8080/"
        },
        "id": "hWnxrv9aMPPG",
        "outputId": "fe613819-b448-4ba5-9400-c416f95e3ae8"
      },
      "source": [
        "x = int(input())\n",
        "y = int(input())\n",
        "temp = x\n",
        "x = y\n",
        "y = temp\n",
        "print('the value of x after swapping:{}'.format(x))\n",
        "print('the value of y after swapping:{}'.format(y))"
      ],
      "execution_count": null,
      "outputs": [
        {
          "output_type": "stream",
          "text": [
            "12\n",
            "15\n",
            "the value of x after swapping:15\n",
            "the value of y after swapping:12\n"
          ],
          "name": "stdout"
        }
      ]
    },
    {
      "cell_type": "code",
      "metadata": {
        "colab": {
          "base_uri": "https://localhost:8080/"
        },
        "id": "eUPqrWgu05Z6",
        "outputId": "632de98f-4b02-4e03-e59a-f0839cdad422"
      },
      "source": [
        "a = int(input())\n",
        "b = int(input())\n",
        "print(\"{0}\\n{1}\".format(a//b, a/b))"
      ],
      "execution_count": null,
      "outputs": [
        {
          "output_type": "stream",
          "text": [
            "4\n",
            "3\n",
            "1\n",
            "1.3333333333333333\n"
          ],
          "name": "stdout"
        }
      ]
    },
    {
      "cell_type": "code",
      "metadata": {
        "colab": {
          "base_uri": "https://localhost:8080/"
        },
        "id": "eno8Oy8QylJ3",
        "outputId": "83061d4e-f6fe-492c-b3fd-6631dd16942c"
      },
      "source": [
        " a = int(input())\n",
        "b = int(input())\n",
        "\n",
        "print('{0} \\n{1} \\n{2}'.format((a + b), (a - b), (a * b)))"
      ],
      "execution_count": null,
      "outputs": [
        {
          "output_type": "stream",
          "text": [
            "3\n",
            "5\n",
            "8 \n",
            "-2 \n",
            "15\n"
          ],
          "name": "stdout"
        }
      ]
    },
    {
      "cell_type": "code",
      "metadata": {
        "colab": {
          "base_uri": "https://localhost:8080/"
        },
        "id": "zH_TQqqqKf1P",
        "outputId": "6d9e3e00-516b-4df2-93bf-a5e4e2c87072"
      },
      "source": [
        "\n",
        "n=int(input(\"Enter the number of elements to be inserted: \"))\n",
        "a=[]\n",
        "for i in range(0,n):\n",
        "    elem=int(input(\"Enter element: \"))\n",
        "    a.append(elem)\n",
        "avg=sum(a)/n\n",
        "print(\"Average of elements in the list\",round(avg,2))"
      ],
      "execution_count": null,
      "outputs": [
        {
          "output_type": "stream",
          "text": [
            "Enter the number of elements to be inserted: 3\n",
            "Enter element: 21\n",
            "Enter element: 22\n",
            "Enter element: 23\n",
            "Average of elements in the list 22.0\n"
          ],
          "name": "stdout"
        }
      ]
    },
    {
      "cell_type": "code",
      "metadata": {
        "colab": {
          "base_uri": "https://localhost:8080/"
        },
        "id": "KLEJgGIJLELa",
        "outputId": "de137d70-a3d3-4b3f-8ec9-cbbbe85f3532"
      },
      "source": [
        "\n",
        "num1 = int(input())\n",
        "num2 = int(input())\n",
        "if(num1 > num2 ):   # Use If condition to find the greatest number among these two.\n",
        "    max= num1\n",
        "else:\n",
        "    max= num2\n",
        "while(True):\n",
        "    if(max % num1 == 0 and max % num2 == 0):\n",
        "        print(max)\n",
        "        break;\n",
        "    max= max+ 1"
      ],
      "execution_count": null,
      "outputs": [
        {
          "output_type": "stream",
          "text": [
            "30\n"
          ],
          "name": "stdout"
        }
      ]
    },
    {
      "cell_type": "code",
      "metadata": {
        "colab": {
          "base_uri": "https://localhost:8080/"
        },
        "id": "lzT1OuWhNCFP",
        "outputId": "5884ac83-7bad-4052-9bb2-5ac7b5c34e57"
      },
      "source": [
        "a = 200\n",
        "b = 200\n",
        "c = -2\n",
        "d = -2\n",
        "print(a is b)\n",
        "print(c is d)"
      ],
      "execution_count": null,
      "outputs": [
        {
          "output_type": "stream",
          "text": [
            "True\n",
            "True\n"
          ],
          "name": "stdout"
        }
      ]
    },
    {
      "cell_type": "code",
      "metadata": {
        "colab": {
          "base_uri": "https://localhost:8080/"
        },
        "id": "w6pUlKOJXC4M",
        "outputId": "30260c5e-245a-4f10-bc40-83fd1358ad2d"
      },
      "source": [
        " n = int(input().strip())\n",
        "check = {True: \"Not Weird\", False: \"Weird\"}\n",
        "\n",
        "print(check[\n",
        "        n%2==0 and (\n",
        "            n in range(2,6) or\n",
        "            n > 20)\n",
        "    ])"
      ],
      "execution_count": null,
      "outputs": [
        {
          "output_type": "stream",
          "text": [
            "3\n",
            "Weird\n"
          ],
          "name": "stdout"
        }
      ]
    },
    {
      "cell_type": "code",
      "metadata": {
        "colab": {
          "base_uri": "https://localhost:8080/"
        },
        "id": "dvZTCHb0w-ur",
        "outputId": "13575d3f-bea8-47ab-e70c-784abf6730ec"
      },
      "source": [
        "\n",
        "num = int(input(\"Enter a number: \"))\n",
        "\n",
        "if num > 1:\n",
        "   for i in range(2,num):\n",
        "       if (num % i) == 0:\n",
        "           print(num,\"is not a prime number\")\n",
        "           print(i,\"times\",num//i,\"is\",num)\n",
        "           break\n",
        "   else:\n",
        "       print(num,\"is a prime number\")\n",
        "\n",
        "else:\n",
        "   print(num,\"is not a prime number\")"
      ],
      "execution_count": null,
      "outputs": [
        {
          "output_type": "stream",
          "text": [
            "Enter a number: 2\n",
            "2 is a prime number\n"
          ],
          "name": "stdout"
        }
      ]
    },
    {
      "cell_type": "code",
      "metadata": {
        "colab": {
          "base_uri": "https://localhost:8080/"
        },
        "id": "0PpEkNR3zWXN",
        "outputId": "67a23fe5-3649-40ed-e588-7bac2a1bd7b1"
      },
      "source": [
        "\n",
        "x = 5\n",
        "y = 10\n",
        "\n",
        "x, y = y, x\n",
        "print(\"x =\", x)\n",
        "print(\"y =\", y)"
      ],
      "execution_count": null,
      "outputs": [
        {
          "output_type": "stream",
          "text": [
            "x = 10\n",
            "y = 5\n"
          ],
          "name": "stdout"
        }
      ]
    },
    {
      "cell_type": "code",
      "metadata": {
        "colab": {
          "base_uri": "https://localhost:8080/"
        },
        "id": "tg7BtVkmYRyJ",
        "outputId": "0e8430bd-86a6-4ec8-988e-ce8785cd2b95"
      },
      "source": [
        " if n in range (6, 21) or n % 2 != 0:\n",
        "        print(\"Weird\")"
      ],
      "execution_count": null,
      "outputs": [
        {
          "output_type": "stream",
          "text": [
            "Weird\n"
          ],
          "name": "stdout"
        }
      ]
    },
    {
      "cell_type": "code",
      "metadata": {
        "colab": {
          "base_uri": "https://localhost:8080/"
        },
        "id": "lH5B0yV8agjX",
        "outputId": "52dc2858-cff0-443a-e918-00a2578c2093"
      },
      "source": [
        " n = int(input())\n",
        "if n % 2 == 0:\n",
        "    if n in range(2,6):\n",
        "        print(\"Not Weird\")\n",
        "\n",
        "    elif n in range(6,21):\n",
        "        print(\"Weird\")\n",
        "\n",
        "    elif n > 20:\n",
        "        print(\"Not Weird\")"
      ],
      "execution_count": null,
      "outputs": [
        {
          "output_type": "stream",
          "text": [
            "3\n"
          ],
          "name": "stdout"
        }
      ]
    },
    {
      "cell_type": "code",
      "metadata": {
        "colab": {
          "base_uri": "https://localhost:8080/"
        },
        "id": "OpzEla4ulrCw",
        "outputId": "70440294-ce82-4ac4-ab4e-ffda1f8bf9b2"
      },
      "source": [
        " n = int(input())\n",
        "if n % 2 == 0:\n",
        "  if n in range(2,6):\n",
        "    print(\"Not weird\")\n",
        "\n",
        "  elif n in range(6,21):\n",
        "    print(\"weird\")\n",
        "\n",
        "  elif n > 20:\n",
        "    print(\"Not weird\")\n",
        "\n",
        " else:\n",
        "      print(\"weird\")"
      ],
      "execution_count": null,
      "outputs": [
        {
          "output_type": "stream",
          "text": [
            "3\n",
            "weird\n"
          ],
          "name": "stdout"
        }
      ]
    },
    {
      "cell_type": "code",
      "metadata": {
        "colab": {
          "base_uri": "https://localhost:8080/"
        },
        "id": "5cC0wBo0Twyk",
        "outputId": "17ac2d80-a29c-4035-ffdd-3c974d37ea54"
      },
      "source": [
        "print(\"Hello,World!\")"
      ],
      "execution_count": null,
      "outputs": [
        {
          "output_type": "stream",
          "text": [
            "Hello,World!\n"
          ],
          "name": "stdout"
        }
      ]
    },
    {
      "cell_type": "code",
      "metadata": {
        "colab": {
          "base_uri": "https://localhost:8080/"
        },
        "id": "YLMEFsYRRRHm",
        "outputId": "1cc39263-563e-4b52-9cf5-41ebff72d835"
      },
      "source": [
        " for i in range (50, 80):\n",
        "  if i % 2 == 0:\n",
        "    print(i)\n",
        "  else:\n",
        "    break"
      ],
      "execution_count": null,
      "outputs": [
        {
          "output_type": "stream",
          "text": [
            "50\n"
          ],
          "name": "stdout"
        }
      ]
    },
    {
      "cell_type": "markdown",
      "metadata": {
        "id": "RfGhoNhKq-PE"
      },
      "source": [
        " set = [1,100]"
      ]
    },
    {
      "cell_type": "markdown",
      "metadata": {
        "id": "WATdUNqXrEIk"
      },
      "source": []
    },
    {
      "cell_type": "code",
      "metadata": {
        "colab": {
          "base_uri": "https://localhost:8080/"
        },
        "id": "Y9OkkT4AzGw1",
        "outputId": "1f8dfa19-a2c1-4650-fc70-0012ead2ec5d"
      },
      "source": [
        "def myfunc():\n",
        " x =\"awesome \"\n",
        " print(\"Python is \" +x)\n",
        "myfunc()"
      ],
      "execution_count": null,
      "outputs": [
        {
          "output_type": "stream",
          "text": [
            "Python is awesome \n"
          ],
          "name": "stdout"
        }
      ]
    },
    {
      "cell_type": "code",
      "metadata": {
        "id": "1sWaBCvbsVPa"
      },
      "source": [
        "a = 12\n",
        "b = 14\n",
        "\n",
        "if b>a:\n",
        " print(\"b is greater than a\")\n",
        "\n",
        "else"
      ],
      "execution_count": null,
      "outputs": []
    },
    {
      "cell_type": "code",
      "metadata": {
        "colab": {
          "base_uri": "https://localhost:8080/"
        },
        "id": "JrrRnJaENDQG",
        "outputId": "6d5fa80e-9cb5-433f-d11a-9dc5b2b8b83b"
      },
      "source": [
        " def myFunction() :\n",
        "  return False\n",
        "\n",
        "print(myFunction())"
      ],
      "execution_count": null,
      "outputs": [
        {
          "output_type": "stream",
          "text": [
            "False\n"
          ],
          "name": "stdout"
        }
      ]
    },
    {
      "cell_type": "code",
      "metadata": {
        "colab": {
          "background_save": true,
          "base_uri": "https://localhost:8080/",
          "height": 148
        },
        "id": "KzmYBM4FPGgU",
        "outputId": "26a2148d-c92c-450b-84e0-e51435873bf3"
      },
      "source": [
        "\n",
        "\n",
        " A = n1\n",
        " B = n2\n",
        " C = A + B\n",
        " def myfunc():\n",
        "  print(\"addition of \"A + B)\n",
        "x = [1,10]\n",
        "\n",
        "myfunc()"
      ],
      "execution_count": null,
      "outputs": [
        {
          "output_type": "error",
          "ename": "SyntaxError",
          "evalue": "ignored",
          "traceback": [
            "\u001b[0;36m  File \u001b[0;32m\"<ipython-input-5-ada47046b0da>\"\u001b[0;36m, line \u001b[0;32m7\u001b[0m\n\u001b[0;31m    print(\"addition of \"A + B)\u001b[0m\n\u001b[0m                        ^\u001b[0m\n\u001b[0;31mSyntaxError\u001b[0m\u001b[0;31m:\u001b[0m invalid syntax\n"
          ]
        }
      ]
    },
    {
      "cell_type": "code",
      "metadata": {
        "colab": {
          "base_uri": "https://localhost:8080/",
          "height": 353
        },
        "id": "RRlHc8ZUOxGe",
        "outputId": "d462b69a-86c2-4080-d996-e8969ea681d3"
      },
      "source": [
        "\n",
        "n=int(input())\n",
        "m=0\n",
        "mxPos=0\n",
        "v=[0]*n\n",
        "x=int(input())\n",
        "for i in range(n):\n",
        "    v[i]=int(input())\n",
        "\n",
        "for i in range(n):\n",
        "    v[i]=(v[i]-1)//print(mxPos+1)"
      ],
      "execution_count": null,
      "outputs": [
        {
          "output_type": "stream",
          "text": [
            "4\n",
            "3\n",
            "7 8 9 3\n"
          ],
          "name": "stdout"
        },
        {
          "output_type": "error",
          "ename": "ValueError",
          "evalue": "ignored",
          "traceback": [
            "\u001b[0;31m---------------------------------------------------------------------------\u001b[0m",
            "\u001b[0;31mValueError\u001b[0m                                Traceback (most recent call last)",
            "\u001b[0;32m<ipython-input-3-31c68e485c22>\u001b[0m in \u001b[0;36m<module>\u001b[0;34m()\u001b[0m\n\u001b[1;32m      6\u001b[0m \u001b[0mx\u001b[0m\u001b[0;34m=\u001b[0m\u001b[0mint\u001b[0m\u001b[0;34m(\u001b[0m\u001b[0minput\u001b[0m\u001b[0;34m(\u001b[0m\u001b[0;34m)\u001b[0m\u001b[0;34m)\u001b[0m\u001b[0;34m\u001b[0m\u001b[0;34m\u001b[0m\u001b[0m\n\u001b[1;32m      7\u001b[0m \u001b[0;32mfor\u001b[0m \u001b[0mi\u001b[0m \u001b[0;32min\u001b[0m \u001b[0mrange\u001b[0m\u001b[0;34m(\u001b[0m\u001b[0mn\u001b[0m\u001b[0;34m)\u001b[0m\u001b[0;34m:\u001b[0m\u001b[0;34m\u001b[0m\u001b[0;34m\u001b[0m\u001b[0m\n\u001b[0;32m----> 8\u001b[0;31m    \u001b[0mv\u001b[0m\u001b[0;34m[\u001b[0m\u001b[0mi\u001b[0m\u001b[0;34m]\u001b[0m\u001b[0;34m=\u001b[0m\u001b[0mint\u001b[0m\u001b[0;34m(\u001b[0m\u001b[0minput\u001b[0m\u001b[0;34m(\u001b[0m\u001b[0;34m)\u001b[0m\u001b[0;34m)\u001b[0m\u001b[0;34m\u001b[0m\u001b[0;34m\u001b[0m\u001b[0m\n\u001b[0m\u001b[1;32m      9\u001b[0m \u001b[0;34m\u001b[0m\u001b[0m\n\u001b[1;32m     10\u001b[0m \u001b[0;32mfor\u001b[0m \u001b[0mi\u001b[0m \u001b[0;32min\u001b[0m \u001b[0mrange\u001b[0m\u001b[0;34m(\u001b[0m\u001b[0mn\u001b[0m\u001b[0;34m)\u001b[0m\u001b[0;34m:\u001b[0m\u001b[0;34m\u001b[0m\u001b[0;34m\u001b[0m\u001b[0m\n",
            "\u001b[0;31mValueError\u001b[0m: invalid literal for int() with base 10: '7 8 9 3'"
          ]
        }
      ]
    }
  ]
}
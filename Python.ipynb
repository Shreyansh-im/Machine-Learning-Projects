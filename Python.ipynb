{
  "cells": [
    {
      "cell_type": "code",
      "execution_count": null,
      "metadata": {
        "colab": {
          "base_uri": "https://localhost:8080/"
        },
        "id": "snVEl6hdAZPK",
        "outputId": "d540a7a7-a00d-4c55-c433-4fbd547206f4"
      },
      "outputs": [
        {
          "name": "stdout",
          "output_type": "stream",
          "text": [
            "45\n",
            "2025\n"
          ]
        }
      ],
      "source": [
        "class e:\n",
        "  def one(self):\n",
        "    a=int(input())\n",
        "    c=a*a\n",
        "    print(c)\n",
        "\n",
        "\n",
        "aa=e()\n",
        "aa.one()"
      ]
    },
    {
      "cell_type": "code",
      "source": [],
      "metadata": {
        "id": "YBoKOytwqIH4"
      },
      "execution_count": null,
      "outputs": []
    },
    {
      "cell_type": "code",
      "execution_count": null,
      "metadata": {
        "colab": {
          "base_uri": "https://localhost:8080/"
        },
        "id": "W69ldYmffXpO",
        "outputId": "1f8be528-fea3-4a9d-c60c-e88f40628f93"
      },
      "outputs": [
        {
          "name": "stdout",
          "output_type": "stream",
          "text": [
            "12\n",
            "21\n",
            "33\n"
          ]
        }
      ],
      "source": [
        "def one():\n",
        "  a=int(input())\n",
        "  b=int(input())\n",
        "  c=a+b\n",
        "  print(c)\n",
        "one()"
      ]
    },
    {
      "cell_type": "code",
      "execution_count": null,
      "metadata": {
        "colab": {
          "base_uri": "https://localhost:8080/"
        },
        "id": "m5LZt6XPfXwd",
        "outputId": "c1e33cf6-460e-41c3-990b-0707bfa5a93d"
      },
      "outputs": [
        {
          "name": "stdout",
          "output_type": "stream",
          "text": [
            "[9, 36, 64, 144, 196, 225]\n",
            "[9, 36, 64, 144, 196, 225]\n",
            "[36, 64, 144, 196]\n",
            "[36, 144]\n",
            "[27, 36, 64, 144, 196, 3375]\n"
          ]
        }
      ],
      "source": [
        "nums=[3,6,8,12,14,15]\n",
        "sq=[]\n",
        "for num in nums:\n",
        "  sq.append(num*num)\n",
        "\n",
        "print(sq)\n",
        "\n",
        "#using list comprehension\n",
        "print([num*num for num in nums])\n",
        "print([num*num for num in nums if num%2==0])\n",
        "print([num*num for num in nums if num%2==0 if num%3==0])\n",
        "print([num*num if num%2==0 else num*num*num for num in nums])"
      ]
    },
    {
      "cell_type": "code",
      "execution_count": null,
      "metadata": {
        "colab": {
          "base_uri": "https://localhost:8080/"
        },
        "id": "lzWXnjYP9LcQ",
        "outputId": "222bc76d-e4bc-4472-a790-69dcc7f977d9"
      },
      "outputs": [
        {
          "name": "stdout",
          "output_type": "stream",
          "text": [
            "[15, 18, 20, 24, 25, 30]\n",
            "[15, 18, 20, 24, 25, 30]\n"
          ]
        }
      ],
      "source": [
        "lst = []\n",
        "for i in range(3,6):\n",
        "  for j in range(5,7):\n",
        "    lst.append(i*j)\n",
        "print(lst)\n",
        "\n",
        "print([i*j for i in range(3,6) for j in range(5,7)])"
      ]
    },
    {
      "cell_type": "code",
      "execution_count": null,
      "metadata": {
        "colab": {
          "base_uri": "https://localhost:8080/"
        },
        "id": "RSmMg8jf7uLP",
        "outputId": "a85bd565-c179-4da8-e48c-1c8ea6cdf5ae"
      },
      "outputs": [
        {
          "name": "stdout",
          "output_type": "stream",
          "text": [
            "[9]\n",
            "[9, 36]\n",
            "[9, 36, 64]\n",
            "[9, 36, 64, 144]\n",
            "[9, 36, 64, 144, 196]\n",
            "[9, 36, 64, 144, 196, 225]\n"
          ]
        }
      ],
      "source": [
        "nums=[3,6,8,12,14,15]\n",
        "sq=[]\n",
        "for num in nums:\n",
        "  sq.append(num*num)\n",
        "  print(sq)"
      ]
    },
    {
      "cell_type": "code",
      "execution_count": null,
      "metadata": {
        "colab": {
          "base_uri": "https://localhost:8080/"
        },
        "id": "gwoDqCMS94Tj",
        "outputId": "c187be60-397c-454e-b7dd-c198ed4660dc"
      },
      "outputs": [
        {
          "name": "stdout",
          "output_type": "stream",
          "text": [
            "{6: 36, 8: 64, 12: 144, 14: 196}\n",
            "{6: 36, 8: 64, 12: 144, 14: 196}\n"
          ]
        }
      ],
      "source": [
        "num = {1,2,3,4,5,6,7,8}\n",
        "my_dict = {}\n",
        "\n",
        "for num in nums:\n",
        "  if num%2==0:\n",
        "\n",
        "    my_dict[num] = num**2\n",
        "print(my_dict)\n",
        "\n",
        "print({num:num**2 for num in nums if num%2==0 })\n"
      ]
    },
    {
      "cell_type": "code",
      "execution_count": null,
      "metadata": {
        "id": "JcbwOOyjfBej"
      },
      "outputs": [],
      "source": [
        "file = open(\"Disha.txt\", \"w\")\n",
        "file.write(\"Disha Classes\")\n",
        "file.write(\"Maha Discount offer any course in 1800.\")\n",
        "file.close()"
      ]
    },
    {
      "cell_type": "code",
      "execution_count": null,
      "metadata": {
        "colab": {
          "base_uri": "https://localhost:8080/"
        },
        "id": "4-80iSLNg8-Y",
        "outputId": "b0d32b14-e257-40f7-f26e-ebf068df2b3d"
      },
      "outputs": [
        {
          "name": "stdout",
          "output_type": "stream",
          "text": [
            "Disha ClassesMaha Discount offer any course in 1800.\n"
          ]
        }
      ],
      "source": [
        "file = open(\"Disha.txt\", \"r\")\n",
        "print(file.read())\n"
      ]
    },
    {
      "cell_type": "code",
      "execution_count": null,
      "metadata": {
        "id": "Of4pLg7fhJMp"
      },
      "outputs": [],
      "source": [
        "file = open(\"Disha.txt\", \"a\")\n",
        "file.write(\"Take Add Fast\")\n",
        "#file.write(\"Maha Discount offer any course in 1800.\")\n",
        "file.close()"
      ]
    },
    {
      "cell_type": "code",
      "execution_count": null,
      "metadata": {
        "colab": {
          "base_uri": "https://localhost:8080/"
        },
        "id": "rKGD-BcqhfS_",
        "outputId": "dc16eb98-6b37-4730-ad5a-8d5b93a964eb"
      },
      "outputs": [
        {
          "name": "stdout",
          "output_type": "stream",
          "text": [
            "['Disha', 'ClassesMaha', 'Discount', 'offer', 'any', 'course', 'in', '1800.Take', 'Add', 'Fast']\n"
          ]
        }
      ],
      "source": [
        "with open(\"Disha.txt\", \"r\") as file:\n",
        "  data = file.readlines()\n",
        "  for line in data:\n",
        "    word = line.split()\n",
        "print(word)"
      ]
    },
    {
      "cell_type": "code",
      "execution_count": null,
      "metadata": {
        "colab": {
          "base_uri": "https://localhost:8080/"
        },
        "id": "53bVlW7Uh9QR",
        "outputId": "a7c3e06e-9e35-46ff-ee05-84f3b3e58dcc"
      },
      "outputs": [
        {
          "name": "stdout",
          "output_type": "stream",
          "text": [
            "Enter number of elements: 3\n",
            "Enter element: 2\n",
            "Enter element: 4\n",
            "Enter element: 5\n",
            "The even list:  [2, 4]\n",
            "The odd list:  [5]\n"
          ]
        }
      ],
      "source": [
        "a=[]\n",
        "n=int(input(\"Enter number of elements: \"))\n",
        "for i in range(1,n+1):\n",
        "  b = int(input(\"Enter element: \"))\n",
        "  a.append(b)\n",
        "even=[]\n",
        "odd=[]\n",
        "for j in a:\n",
        "  if j%2==0:\n",
        "    even.append(j)\n",
        "  else:\n",
        "    odd.append(j)\n",
        "print(\"The even list: \", even)\n",
        "print(\"The odd list: \", odd)"
      ]
    },
    {
      "cell_type": "code",
      "execution_count": null,
      "metadata": {
        "colab": {
          "base_uri": "https://localhost:8080/"
        },
        "id": "mXJygnPZjKxz",
        "outputId": "8d58edf2-89cd-4a13-9f0e-dc10892f5064"
      },
      "outputs": [
        {
          "name": "stdout",
          "output_type": "stream",
          "text": [
            "15\n"
          ]
        }
      ],
      "source": [
        "a=[1,2,3,4,5]\n",
        "sum=0\n",
        "for i in range(len(a)):\n",
        "  sum=sum+a[i]\n",
        "print(sum)"
      ]
    },
    {
      "cell_type": "code",
      "execution_count": null,
      "metadata": {
        "colab": {
          "base_uri": "https://localhost:8080/"
        },
        "id": "n4DTPU4Aj2e0",
        "outputId": "2219df84-3d8e-47c3-a8bf-b2a40929e84e"
      },
      "outputs": [
        {
          "name": "stdout",
          "output_type": "stream",
          "text": [
            "[5, 5, 5, 5]\n"
          ]
        }
      ],
      "source": [
        "a=[1,2,3,4]\n",
        "b=[4,3,2,1]\n",
        "c=[]\n",
        "for i in range(0,len(a)):\n",
        "  c.append(a[i]+b[i])\n",
        "print(c)"
      ]
    },
    {
      "cell_type": "code",
      "execution_count": null,
      "metadata": {
        "colab": {
          "base_uri": "https://localhost:8080/"
        },
        "id": "EOzG4w76kNHx",
        "outputId": "9a4078ed-ec59-4f69-fa59-20cf83a075d1"
      },
      "outputs": [
        {
          "name": "stdout",
          "output_type": "stream",
          "text": [
            "4\n"
          ]
        }
      ],
      "source": [
        "a=[1,2,3,4]\n",
        "max_element = a[0]\n",
        "\n",
        "for i in range(len(a)):\n",
        "  if a[i]> max_element:\n",
        "    max_element=a[i]\n",
        "print(max_element)"
      ]
    },
    {
      "cell_type": "code",
      "execution_count": null,
      "metadata": {
        "colab": {
          "base_uri": "https://localhost:8080/"
        },
        "id": "lblcq7u7k73z",
        "outputId": "1c3b12f2-8897-4e4a-a64a-603a78418ad3"
      },
      "outputs": [
        {
          "name": "stdout",
          "output_type": "stream",
          "text": [
            "10\n",
            "Try is finished.\n"
          ]
        }
      ],
      "source": [
        "a=10\n",
        "try:\n",
        "  print(a)\n",
        "\n",
        "except:\n",
        "  print(\"Something went wrong.\")\n",
        "\n",
        "finally:\n",
        "  print(\"Try is finished.\")"
      ]
    },
    {
      "cell_type": "code",
      "execution_count": null,
      "metadata": {
        "colab": {
          "base_uri": "https://localhost:8080/"
        },
        "id": "1RpvAYCKgHYa",
        "outputId": "5790e168-c716-4b36-b4b7-355a15519fae"
      },
      "outputs": [
        {
          "name": "stdout",
          "output_type": "stream",
          "text": [
            "    August 2023\n",
            "Mo Tu We Th Fr Sa Su\n",
            "    1  2  3  4  5  6\n",
            " 7  8  9 10 11 12 13\n",
            "14 15 16 17 18 19 20\n",
            "21 22 23 24 25 26 27\n",
            "28 29 30 31\n",
            "\n"
          ]
        }
      ],
      "source": [
        "import calendar\n",
        "print(calendar.month(2023,8))"
      ]
    },
    {
      "cell_type": "code",
      "execution_count": null,
      "metadata": {
        "colab": {
          "base_uri": "https://localhost:8080/"
        },
        "id": "aOkte3HogR3q",
        "outputId": "c5245555-b1a5-444b-f92e-bc23ab7dd592"
      },
      "outputs": [
        {
          "name": "stdout",
          "output_type": "stream",
          "text": [
            "['False', 'None', 'True', '__peg_parser__', 'and', 'as', 'assert', 'async', 'await', 'break', 'class', 'continue', 'def', 'del', 'elif', 'else', 'except', 'finally', 'for', 'from', 'global', 'if', 'import', 'in', 'is', 'lambda', 'nonlocal', 'not', 'or', 'pass', 'raise', 'return', 'try', 'while', 'with', 'yield']\n"
          ]
        }
      ],
      "source": [
        "import keyword\n",
        "print(keyword.kwlist)"
      ]
    },
    {
      "cell_type": "code",
      "execution_count": null,
      "metadata": {
        "colab": {
          "base_uri": "https://localhost:8080/"
        },
        "id": "BUEbnvx1giGm",
        "outputId": "52275b4c-5a26-43b7-b494-49b8453aff47"
      },
      "outputs": [
        {
          "name": "stdout",
          "output_type": "stream",
          "text": [
            "     April 2023\n",
            "Mo Tu We Th Fr Sa Su\n",
            "                1  2\n",
            " 3  4  5  6  7  8  9\n",
            "10 11 12 13 14 15 16\n",
            "17 18 19 20 21 22 23\n",
            "24 25 26 27 28 29 30\n",
            "\n"
          ]
        }
      ],
      "source": [
        "import calendar\n",
        "print(calendar.month(2023,4))"
      ]
    },
    {
      "cell_type": "code",
      "execution_count": null,
      "metadata": {
        "id": "aNHQymnnh4gN"
      },
      "outputs": [],
      "source": [
        "'''\n",
        "\n",
        "Python Lists are similar to arrays in C. However, the list can contain data of different\n",
        "types. The items stored in the list are separated with a comma (,) and enclosed within\n",
        "square brackets [].\n",
        "We can use slice [:] operators to access the data of the list. The concatenation operator\n",
        "(+) and repetition operator (*) works with the list in the same way as they were working\n",
        "with the strings\n",
        "\n",
        "A tuple is similar to the list in many ways. Like lists, tuples also contain the collection\n",
        "of the items of different data types. The items of the tuple are separated with a comma\n",
        "(,) and enclosed in parentheses ().\n",
        "A tuple is a read-only data structure as we can't modify the size and value of the items\n",
        "of a tuple.\n",
        "\n",
        "Dictionary is an unordered set of a key-value pair of items. It is like an associative array\n",
        "or a hash table where each key stores a specific value. Key can hold any primitive data\n",
        "type, whereas value is an arbitrary Python object.\n",
        "The items in the dictionary are separated with the comma (,) and enclosed in the curly\n",
        "braces {}.\n",
        "\n",
        "Python Set is the unordered collection of the data type. It is iterable, mutable(can modify\n",
        "after creation), and has unique elements. In set, the order of the elements is undefined;\n",
        "it may return the changed sequence of the element. The set is created by using a built\u0002in function set(), or a sequence of elements is passed in the curly braces and separated\n",
        "by the comma. It can contain various types of values. Consider the following example.\n",
        "\n",
        "List items are ordered, changeable, and allow duplicate values.\n",
        "\n",
        "Tuple items are ordered, unchangeable, and allow duplicate values.\n",
        "\n",
        "Set items are unordered, unchangeable, and do not allow duplicate values.\n",
        "\n",
        "Dictionary items are ordered, changeable, and does not allow duplicates.\n",
        "\n",
        "Object is an instance of a class used to store a pair of variables and values.\n",
        "variable is used to store a value integer,string,boolean. It is reference to an object.\n",
        "\n",
        "Function is a block of code.\n",
        "Class is an object constructor used as a blueprint of an object.\n",
        "\n",
        "Keywords in Python are reserved words that can not be used as a variable name, function name, or any other identifier.\n",
        "\n",
        "break: “break” is used to control the flow of the loop. The statement is used to break out of the loop and passes the control to the statement following immediately after loop.\n",
        "continue: “continue” is also used to control the flow of code. The keyword skips the current iteration of the loop but does not end the loop.\n",
        "\n",
        "if : It is a control statement for decision making. Truth expression forces control to go in “if” statement block.\n",
        "else : It is a control statement for decision making. False expression forces control to go in “else” statement block.\n",
        "elif : It is a control statement for decision making. It is short for “else if“\n",
        "\n",
        "def keyword is used to declare user defined functions.\n",
        "\n",
        "class keyword is used to declare user defined classes.\n",
        "Lambda keyword is used to make inline returning functions with no statements allowed internally.\n",
        "\n",
        "\n",
        "\n",
        " '''"
      ]
    },
    {
      "cell_type": "code",
      "execution_count": null,
      "metadata": {
        "colab": {
          "base_uri": "https://localhost:8080/"
        },
        "id": "Q8B4L1Eo2QsW",
        "outputId": "49b0bd22-d4c0-4d26-9a7e-606f1908b961"
      },
      "outputs": [
        {
          "name": "stdout",
          "output_type": "stream",
          "text": [
            "Animal speaking\n",
            "Dog barks\n"
          ]
        }
      ],
      "source": [
        "#Inheritance(Single) = Advance Python\n",
        "class Animal:\n",
        "  def speak(self):\n",
        "    print(\"Animal speaking\")\n",
        "\n",
        "class Dog(Animal):\n",
        "  def bark(self):\n",
        "    print(\"Dog barks\")\n",
        "\n",
        "d=Dog()\n",
        "d.speak()\n",
        "d.bark()"
      ]
    },
    {
      "cell_type": "code",
      "execution_count": null,
      "metadata": {
        "colab": {
          "base_uri": "https://localhost:8080/"
        },
        "id": "VCXDiPdS28ki",
        "outputId": "bb1eba48-13d6-41fe-d9c9-01e9c8b6a697"
      },
      "outputs": [
        {
          "name": "stdout",
          "output_type": "stream",
          "text": [
            "Here we calculate area of Rectangle.\n",
            "Ënter breadth: 32\n",
            "Ënter width: 10\n",
            "320\n",
            "Area of Rectangle is:  320\n"
          ]
        }
      ],
      "source": [
        "class Area:\n",
        "  def Rectangle(self):\n",
        "    print(\"Here we calculate area of Rectangle.\")\n",
        "    self.b=int(input( \"Ënter breadth: \" ))\n",
        "    self.w=int(input(\"Ënter width: \" ))\n",
        "\n",
        "\n",
        "class Calculation(Area):\n",
        "  def AreaofRectangle(self):\n",
        "    area=self.b*self.w\n",
        "    print(area)\n",
        "    print(\"Area of Rectangle is: \", area)\n",
        "\n",
        "\n",
        "d=Calculation()\n",
        "d.Rectangle()\n",
        "d.AreaofRectangle()"
      ]
    },
    {
      "cell_type": "code",
      "execution_count": null,
      "metadata": {
        "colab": {
          "base_uri": "https://localhost:8080/"
        },
        "id": "EcMpm8hZ4cyR",
        "outputId": "078ff0b0-530b-4e5c-a704-c9f3c0ce8acd"
      },
      "outputs": [
        {
          "name": "stdout",
          "output_type": "stream",
          "text": [
            "Here we calculate area of Circle.\n",
            "Ënter Radius: 12\n",
            "452.15999999999997\n",
            "Area of Circle is:  452.15999999999997\n"
          ]
        }
      ],
      "source": [
        "class Area:\n",
        "  def Circle(self):\n",
        "    print(\"Here we calculate area of Circle.\")\n",
        "    self.r=int(input( \"Ënter Radius: \" ))\n",
        "\n",
        "\n",
        "\n",
        "class Calculation(Area):\n",
        "  def AreaofCircle(self):\n",
        "    area=3.14*self.r*self.r\n",
        "    print(area)\n",
        "    print(\"Area of Circle is: \", area)\n",
        "\n",
        "\n",
        "d=Calculation()\n",
        "d.Circle()\n",
        "d.AreaofCircle()"
      ]
    },
    {
      "cell_type": "code",
      "execution_count": null,
      "metadata": {
        "colab": {
          "base_uri": "https://localhost:8080/"
        },
        "id": "vWvtFh8f62Yp",
        "outputId": "091b5fc0-fe23-4b78-a3e4-aaa818a9b989"
      },
      "outputs": [
        {
          "name": "stdout",
          "output_type": "stream",
          "text": [
            "Here we calculate area of Circle.\n",
            "Ënter Height: 12\n",
            "Enter Base: 23\n",
            "138.0\n",
            "Area of Triangle is:  138.0\n"
          ]
        }
      ],
      "source": [
        "class Area:\n",
        "  def Triangle(self):\n",
        "    print(\"Here we calculate area of Circle.\")\n",
        "    self.h=int(input( \"Ënter Height: \" ))\n",
        "    self.b=int(input(\"Enter Base: \"))\n",
        "\n",
        "\n",
        "\n",
        "class Calculation(Area):\n",
        "  def AreaofTriangle(self):\n",
        "    area=0.5*self.b*self.h\n",
        "    print(area)\n",
        "    print(\"Area of Triangle is: \", area)\n",
        "\n",
        "\n",
        "d=Calculation()\n",
        "d.Triangle()\n",
        "d.AreaofTriangle()"
      ]
    },
    {
      "cell_type": "code",
      "execution_count": null,
      "metadata": {
        "colab": {
          "base_uri": "https://localhost:8080/"
        },
        "id": "cyOQlia065Ci",
        "outputId": "12c92664-cf0a-4bcd-b25b-59bf5379f1b9"
      },
      "outputs": [
        {
          "output_type": "stream",
          "name": "stdout",
          "text": [
            "Here is good version.\n",
            "Here is good version02.\n",
            "Here is good version023.\n"
          ]
        }
      ],
      "source": [
        "\n",
        "#multilevel\n",
        "class One:\n",
        "  def oo(self):\n",
        "    print(\"Here is good version.\")\n",
        "\n",
        "class Two(One):\n",
        "  def op(self):\n",
        "    print(\"Here is good version02.\")\n",
        "\n",
        "class Three(Two):\n",
        "  def ol(self):\n",
        "    print(\"Here is good version023.\")\n",
        "\n",
        "d=Three()\n",
        "d.oo()\n",
        "d.op()\n",
        "d.ol()"
      ]
    },
    {
      "cell_type": "code",
      "execution_count": null,
      "metadata": {
        "colab": {
          "base_uri": "https://localhost:8080/"
        },
        "id": "pevUH7oJ8eAr",
        "outputId": "df81037e-a8ff-4d3f-bca9-86741528d0e6"
      },
      "outputs": [
        {
          "name": "stdout",
          "output_type": "stream",
          "text": [
            "Reversed Number: 4321\n"
          ]
        }
      ],
      "source": [
        "num = 1234\n",
        "reversed_num = 0\n",
        "\n",
        "while num != 0:\n",
        "    digit = num % 10\n",
        "    reversed_num = reversed_num * 10 + digit\n",
        "    num //= 10\n",
        "\n",
        "print(\"Reversed Number: \" + str(reversed_num))"
      ]
    },
    {
      "cell_type": "code",
      "execution_count": null,
      "metadata": {
        "colab": {
          "base_uri": "https://localhost:8080/"
        },
        "id": "5zlUOshg92J9",
        "outputId": "d274df11-4fc5-40b5-b88e-3e5b735e192b"
      },
      "outputs": [
        {
          "name": "stdout",
          "output_type": "stream",
          "text": [
            "Prime numbers between 1 and 10 are:\n",
            "2\n",
            "3\n",
            "5\n",
            "7\n"
          ]
        }
      ],
      "source": [
        "# Python program to display all the prime numbers within an interval\n",
        "\n",
        "lower = 1\n",
        "upper = 10\n",
        "\n",
        "print(\"Prime numbers between\", lower, \"and\", upper, \"are:\")\n",
        "\n",
        "for num in range(lower, upper + 1):\n",
        "   # all prime numbers are greater than 1\n",
        "   if num > 1:\n",
        "       for i in range(2, num):\n",
        "           if (num % i) == 0:\n",
        "               break\n",
        "       else:\n",
        "           print(num)"
      ]
    },
    {
      "cell_type": "code",
      "execution_count": null,
      "metadata": {
        "colab": {
          "base_uri": "https://localhost:8080/",
          "height": 218
        },
        "id": "t_-eNBFeANLb",
        "outputId": "26bb6a0e-845b-4719-bfb7-619957857d2b"
      },
      "outputs": [
        {
          "name": "stdout",
          "output_type": "stream",
          "text": [
            "12\n"
          ]
        },
        {
          "ename": "NameError",
          "evalue": "ignored",
          "output_type": "error",
          "traceback": [
            "\u001b[0;31m---------------------------------------------------------------------------\u001b[0m",
            "\u001b[0;31mNameError\u001b[0m                                 Traceback (most recent call last)",
            "\u001b[0;32m<ipython-input-1-3b4e3fc4fa5a>\u001b[0m in \u001b[0;36m<cell line: 5>\u001b[0;34m()\u001b[0m\n\u001b[1;32m      3\u001b[0m \u001b[0;32mdel\u001b[0m \u001b[0ma\u001b[0m\u001b[0;34m\u001b[0m\u001b[0;34m\u001b[0m\u001b[0m\n\u001b[1;32m      4\u001b[0m \u001b[0mprint\u001b[0m\u001b[0;34m(\u001b[0m\u001b[0mb\u001b[0m\u001b[0;34m)\u001b[0m\u001b[0;34m\u001b[0m\u001b[0;34m\u001b[0m\u001b[0m\n\u001b[0;32m----> 5\u001b[0;31m \u001b[0mprint\u001b[0m\u001b[0;34m(\u001b[0m\u001b[0ma\u001b[0m\u001b[0;34m)\u001b[0m\u001b[0;34m\u001b[0m\u001b[0;34m\u001b[0m\u001b[0m\n\u001b[0m",
            "\u001b[0;31mNameError\u001b[0m: name 'a' is not defined"
          ]
        }
      ],
      "source": [
        "a=10\n",
        "b=12\n",
        "del a\n",
        "print(b)\n",
        "print(a)"
      ]
    },
    {
      "cell_type": "code",
      "execution_count": null,
      "metadata": {
        "colab": {
          "base_uri": "https://localhost:8080/"
        },
        "id": "EV_Hva8bAe78",
        "outputId": "21f91a02-912f-49bb-d8ca-9b85c032c7e5"
      },
      "outputs": [
        {
          "name": "stdout",
          "output_type": "stream",
          "text": [
            "division by zero\n"
          ]
        }
      ],
      "source": [
        "a=0\n",
        "try:\n",
        "  b=1/a\n",
        "except Exception as e:\n",
        "  print(e)"
      ]
    },
    {
      "cell_type": "code",
      "execution_count": null,
      "metadata": {
        "colab": {
          "base_uri": "https://localhost:8080/",
          "height": 201
        },
        "id": "VgVRzXnXA0oo",
        "outputId": "4bf730fa-7217-4d30-e18f-6842c53575ab"
      },
      "outputs": [
        {
          "ename": "Exception",
          "evalue": "ignored",
          "output_type": "error",
          "traceback": [
            "\u001b[0;31m---------------------------------------------------------------------------\u001b[0m",
            "\u001b[0;31mException\u001b[0m                                 Traceback (most recent call last)",
            "\u001b[0;32m<ipython-input-3-d8847127872d>\u001b[0m in \u001b[0;36m<cell line: 2>\u001b[0;34m()\u001b[0m\n\u001b[1;32m      1\u001b[0m \u001b[0ma\u001b[0m\u001b[0;34m=\u001b[0m\u001b[0;36m5\u001b[0m\u001b[0;34m\u001b[0m\u001b[0;34m\u001b[0m\u001b[0m\n\u001b[1;32m      2\u001b[0m \u001b[0;32mif\u001b[0m\u001b[0;34m(\u001b[0m\u001b[0ma\u001b[0m\u001b[0;34m>\u001b[0m\u001b[0;36m2\u001b[0m\u001b[0;34m)\u001b[0m\u001b[0;34m:\u001b[0m\u001b[0;34m\u001b[0m\u001b[0;34m\u001b[0m\u001b[0m\n\u001b[0;32m----> 3\u001b[0;31m   \u001b[0;32mraise\u001b[0m \u001b[0mException\u001b[0m \u001b[0;34m(\u001b[0m\u001b[0;34m\"a should not exceed 2\"\u001b[0m\u001b[0;34m)\u001b[0m\u001b[0;34m\u001b[0m\u001b[0;34m\u001b[0m\u001b[0m\n\u001b[0m",
            "\u001b[0;31mException\u001b[0m: a should not exceed 2"
          ]
        }
      ],
      "source": [
        "a=5\n",
        "if(a>2):\n",
        "  raise Exception (\"a should not exceed 2\")"
      ]
    },
    {
      "cell_type": "code",
      "execution_count": null,
      "metadata": {
        "colab": {
          "base_uri": "https://localhost:8080/"
        },
        "id": "3FjAwPgjBCym",
        "outputId": "496d41d2-2921-4cbf-cfa5-936540fb0e32"
      },
      "outputs": [
        {
          "name": "stdout",
          "output_type": "stream",
          "text": [
            "division by zero\n",
            "Finally always executed\n"
          ]
        }
      ],
      "source": [
        "a=0\n",
        "b=5\n",
        "try:\n",
        "  c=b/a\n",
        "  print(c)\n",
        "except Exception as e:\n",
        "   print(e)\n",
        "finally:\n",
        "  print(\"Finally always executed\")"
      ]
    },
    {
      "cell_type": "code",
      "execution_count": null,
      "metadata": {
        "colab": {
          "base_uri": "https://localhost:8080/"
        },
        "id": "eAhyJ5_qMath",
        "outputId": "aca9369c-cbe5-404a-a4ba-9d6b6dfeafe7"
      },
      "outputs": [
        {
          "name": "stdout",
          "output_type": "stream",
          "text": [
            "0\n",
            "1\n",
            "2\n",
            "3\n",
            "4\n"
          ]
        }
      ],
      "source": [
        "a=0\n",
        "while(a<5):\n",
        "  print(a)\n",
        "  a+=1"
      ]
    },
    {
      "cell_type": "code",
      "execution_count": null,
      "metadata": {
        "colab": {
          "base_uri": "https://localhost:8080/"
        },
        "id": "_dHPxm68MkZS",
        "outputId": "faeeef15-c06a-4436-f64b-3f462aab8206"
      },
      "outputs": [
        {
          "name": "stdout",
          "output_type": "stream",
          "text": [
            "5.0\n"
          ]
        }
      ],
      "source": [
        "import math\n",
        "print(math.sqrt(25))"
      ]
    },
    {
      "cell_type": "code",
      "execution_count": null,
      "metadata": {
        "colab": {
          "base_uri": "https://localhost:8080/"
        },
        "id": "5QYEwcDkMwU0",
        "outputId": "b21b53d7-7736-43e2-9eb9-067044a1ece5"
      },
      "outputs": [
        {
          "name": "stdout",
          "output_type": "stream",
          "text": [
            "8.0\n"
          ]
        }
      ],
      "source": [
        "from math import sqrt\n",
        "print(sqrt(64))"
      ]
    },
    {
      "cell_type": "code",
      "execution_count": null,
      "metadata": {
        "colab": {
          "background_save": true
        },
        "id": "1oNiZ2IaNDEC",
        "outputId": "216ce886-d9c7-4627-e643-6b2185fa123e"
      },
      "outputs": [
        {
          "name": "stdout",
          "output_type": "stream",
          "text": [
            "July\n"
          ]
        }
      ],
      "source": [
        "import calendar as cal\n",
        "print(cal.month_name[7])"
      ]
    },
    {
      "cell_type": "code",
      "execution_count": null,
      "metadata": {
        "id": "it3MZCNmNfk5",
        "colab": {
          "base_uri": "https://localhost:8080/"
        },
        "outputId": "013c4b5a-e3b4-4d63-a985-c65909002531"
      },
      "outputs": [
        {
          "output_type": "stream",
          "name": "stdout",
          "text": [
            "Enter a 12\n",
            "Enter b: 2\n",
            "Enter c: 65\n",
            "79\n",
            "Addition is :  79\n"
          ]
        }
      ],
      "source": [
        "#Multilevel Inheritance\n",
        "\n",
        "class one:\n",
        "  def o1(self):\n",
        "    self.a=int(input(\"Enter a \"))\n",
        "\n",
        "class two:\n",
        "  def o2(self):\n",
        "    self.b=int(input(\"Enter b: \"))\n",
        "\n",
        "class three:\n",
        "  def o3(self):\n",
        "    self.c=int(input(\"Enter c: \"))\n",
        "\n",
        "class four(one,two,three):\n",
        "  def o4(self):\n",
        "    self.d=self.a+self.b+self.c\n",
        "    print(self.d)\n",
        "    print(\"Addition is : \", self.d)\n",
        "\n",
        "\n",
        "t=four()\n",
        "t.o1()\n",
        "t.o2()\n",
        "t.o3()\n",
        "t.o4()"
      ]
    },
    {
      "cell_type": "code",
      "source": [
        "#Hierarchical Inheritance..\n",
        "\n",
        "class one:\n",
        "  def o1(self):\n",
        "    self.a=int(input(\"Enter a: \"))\n",
        "    self.b=int(input(\"Enter b: \"))\n",
        "\n",
        "class two(one):\n",
        "  def o2(self):\n",
        "    self.c=self.a+self.b\n",
        "    print(\"Addition is: \", self.c)\n",
        "\n",
        "class three(one):\n",
        "  def o3(self):\n",
        "\n",
        "\n",
        "    self.d=self.a-self.b\n",
        "    print(self.d)\n",
        "\n",
        "t=two()\n",
        "t.o1()\n",
        "t.o2()\n",
        "\n",
        "t=three()\n",
        "t.o1()\n",
        "t.o3()\n"
      ],
      "metadata": {
        "colab": {
          "base_uri": "https://localhost:8080/"
        },
        "id": "IC6fijUVrv9w",
        "outputId": "ebc398df-31c3-4b6b-e0ac-6708f2f076bc"
      },
      "execution_count": null,
      "outputs": [
        {
          "output_type": "stream",
          "name": "stdout",
          "text": [
            "Enter a: 23\n",
            "Enter b: 12\n",
            "Addition is:  35\n",
            "Enter a: 34\n",
            "Enter b: 21\n",
            "13\n"
          ]
        }
      ]
    },
    {
      "cell_type": "code",
      "source": [
        "#Constructor has same name as class name.Default, Parameterised, Non-parameterised.\n",
        "#Default\n",
        "class add:\n",
        "  def add(self):\n",
        "    r=float(input(\"Enter radius: \"))\n",
        "    aoc=3.14*r*r\n",
        "    print(\"Area of Circle: \", aoc)\n",
        "\n",
        "a1=add()\n",
        "a1.add()"
      ],
      "metadata": {
        "colab": {
          "base_uri": "https://localhost:8080/"
        },
        "id": "3V2eJ59jBu8c",
        "outputId": "e96ec2e0-bf49-4ac4-a854-0e301f9b9727"
      },
      "execution_count": null,
      "outputs": [
        {
          "output_type": "stream",
          "name": "stdout",
          "text": [
            "Enter radius: 12\n",
            "Area of Circle:  452.15999999999997\n"
          ]
        }
      ]
    },
    {
      "cell_type": "code",
      "source": [
        "#Parameterised\n",
        "class ms:\n",
        "  def ms(self,a,b):\n",
        "    c=a+b\n",
        "    print(\"add is: \", c)\n",
        "\n",
        "a1=ms()\n",
        "a=int(input(\"Enter 1st Number: \"))\n",
        "b=int(input(\"Enter 2nd Number: \"))\n",
        "a1.ms(a,b)"
      ],
      "metadata": {
        "colab": {
          "base_uri": "https://localhost:8080/"
        },
        "id": "CpfdaoBLC0JR",
        "outputId": "fe470181-de12-4186-915e-4ce876e26d7a"
      },
      "execution_count": null,
      "outputs": [
        {
          "output_type": "stream",
          "name": "stdout",
          "text": [
            "Enter 1st Number: 12\n",
            "Enter 2nd Number: 23\n",
            "add is:  35\n"
          ]
        }
      ]
    },
    {
      "cell_type": "code",
      "source": [
        "\"\"\"Each time an object is created the method, that method is called as Constructor.\n",
        "when u dont write constructor in the class created then, python itself creates the constructor. is called default Constructor.\n",
        "parameterised constructor:\n",
        "when arguments passed along with constructor is known as Parameterised Constructor.\n",
        "These arguments can be used in class to assign the values to data members.\n",
        "\n",
        "Non parameterised Constructor:\n",
        "when arguments passed doesnt accept the objects and only self is used then it is known as non parameterised constructor.  \"\"\""
      ],
      "metadata": {
        "id": "G4y1cBeOFFbj"
      },
      "execution_count": null,
      "outputs": []
    },
    {
      "cell_type": "code",
      "source": [
        "\"\"\" Inheritance- when we define a class that inherits all the properties from other class is called Inheritance.\n",
        "Multilevel Inheritance- In this inheritance we have one parent class and multiple child class.\n",
        "Multiple Inheritance- When a class is derived from more than one base class, then it is called as Multiple Inheritance.\n",
        "Hierarchical Inheritance- If multiple derived classes are created from saame base class, then it is known as Hierarchical Inheritance.\n",
        "\n",
        "\n",
        "Recursion -Function calling itself is known as recursive function.\n",
        "\n",
        "Constructor- Each time an object is created that method is called as Constructor. Constructor has same name as class name.\n",
        "1] Default 2] Parameterised 3] Non-parameterised\n",
        "\n",
        "default constructor- when you do not write constructor in the class created, then python itself creates constructor during the compilaqtion of program.\n",
        "\n",
        "parameterised constructor- when constructor accepts arguments along with self then it is known as parameterised constructor.\n",
        "\n",
        "non parameterised constructor- when constructor dont accepts any arguments from the object and has only one argument self in constructor is known as non parameterised constructor.\n",
        "\n",
        "Constructor overloading- Constructor overloading is done by checking conditions for the arguments passed and performing required actions.\n",
        "Constructor overriding- Subclass constructor is replacing the super class constructor is known as constructor overriding.\n",
        "\n",
        "super- super function is used to give access to methods and properties of parent or sibling class.\n",
        "\n",
        "function arguments- calling a function with specific values is called as function arguments.\n",
        "*args- non keyword arguments used to pass variable length arguments\n",
        "**kwargs- keyword arguments. used to pass variable keyword arguments. \"\"\"\n",
        "\n",
        "\n"
      ],
      "metadata": {
        "id": "8fNqBS9rMnoX"
      },
      "execution_count": null,
      "outputs": []
    },
    {
      "cell_type": "code",
      "source": [
        "#Non-parameterised Constructor..\n",
        "class one:\n",
        "  def __init__(self):\n",
        "    print(\"Disha class\")\n",
        "\n",
        "  def two(self, name):\n",
        "    print(\"Hello\", name)\n",
        "\n",
        "d1=one()\n",
        "d1.two(\"Jitesh\")"
      ],
      "metadata": {
        "colab": {
          "base_uri": "https://localhost:8080/"
        },
        "id": "X9h3k0C4X8Kl",
        "outputId": "26cbb245-377a-44c5-8cb4-e33f27782513"
      },
      "execution_count": null,
      "outputs": [
        {
          "output_type": "stream",
          "name": "stdout",
          "text": [
            "Disha class\n",
            "Hello Jitesh\n"
          ]
        }
      ]
    },
    {
      "cell_type": "code",
      "source": [
        "#Constructor overloading..\n",
        "class ms:\n",
        "  def __init__(self,*argv):\n",
        "    for i in argv:\n",
        "      print(i)\n",
        "\n",
        "s1=ms(1,2,3,4,5,6)\n",
        "\n",
        "class vk:\n",
        "  def __init__(self, *argv):\n",
        "    for i in argv:\n",
        "      if i%2==0:\n",
        "        print(i, \"is Even Number.\")\n",
        "\n",
        "      else:\n",
        "        print(i, \"is Odd Number.\")\n",
        "\n",
        "A1=vk(2,5,6,7,9,13)"
      ],
      "metadata": {
        "colab": {
          "base_uri": "https://localhost:8080/"
        },
        "id": "T5tfQ8KfYrCd",
        "outputId": "a1675b77-5ead-432e-d1eb-2e242e1ae51b"
      },
      "execution_count": null,
      "outputs": [
        {
          "output_type": "stream",
          "name": "stdout",
          "text": [
            "1\n",
            "2\n",
            "3\n",
            "4\n",
            "5\n",
            "6\n",
            "2 is Even Number.\n",
            "5 is Odd Number.\n",
            "6 is Even Number.\n",
            "7 is Odd Number.\n",
            "9 is Odd Number.\n",
            "13 is Odd Number.\n"
          ]
        }
      ]
    },
    {
      "cell_type": "code",
      "source": [
        "#Constructor overloading..\n",
        "\n",
        "class test:\n",
        "  def __init__(self, k):\n",
        "    self.x1=k\n",
        "  def f(self):\n",
        "    print(\"This is method.\")\n",
        "    print(self.x1)\n",
        "\n",
        "  def f(self,a):\n",
        "    print(self.x1+a)\n",
        "\n",
        "ob1=test(1)\n",
        "ob1.f(5)"
      ],
      "metadata": {
        "colab": {
          "base_uri": "https://localhost:8080/"
        },
        "id": "sDAq9w75aAzU",
        "outputId": "c460889b-233a-4070-dcfb-125248f928dc"
      },
      "execution_count": null,
      "outputs": [
        {
          "output_type": "stream",
          "name": "stdout",
          "text": [
            "6\n"
          ]
        }
      ]
    },
    {
      "cell_type": "code",
      "source": [
        "#Constructor overriding-\n",
        "class father:\n",
        "  def __init__(self):\n",
        "    self.property=80000\n",
        "  def display_property(self):\n",
        "    print(\"Fathers property is: \", self.property)\n",
        "\n",
        "class son(father):\n",
        "  def __init__(self):\n",
        "    self.property=20000\n",
        "  def display_property(self):\n",
        "    print(\"Sons property is: \", self.property)\n",
        "\n",
        "j=son()\n",
        "j.display_property()\n"
      ],
      "metadata": {
        "colab": {
          "base_uri": "https://localhost:8080/"
        },
        "id": "sLJl74aFZ9hu",
        "outputId": "eed4ffb6-8efa-44cb-fada-44a2375d2a28"
      },
      "execution_count": null,
      "outputs": [
        {
          "output_type": "stream",
          "name": "stdout",
          "text": [
            "Sons property is:  20000\n"
          ]
        }
      ]
    },
    {
      "cell_type": "code",
      "source": [
        "#Super() with single inheritance\n",
        "\n",
        "class Mammal(object):\n",
        "  def __init__(self, mammalName):\n",
        "    print(mammalName, 'is a warm-blooded animal.')\n",
        "\n",
        "class Dog(Mammal):\n",
        "  def __init__(self):\n",
        "    print('Dog has four legs.')\n",
        "    super().__init__('Dog')\n",
        "\n",
        "d1 = Dog()"
      ],
      "metadata": {
        "colab": {
          "base_uri": "https://localhost:8080/"
        },
        "id": "C7G7uznjdn_D",
        "outputId": "5e49d912-7885-424d-f534-be620204e6a5"
      },
      "execution_count": null,
      "outputs": [
        {
          "output_type": "stream",
          "name": "stdout",
          "text": [
            "Dog has four legs.\n",
            "Dog is a warm-blooded animal.\n"
          ]
        }
      ]
    },
    {
      "cell_type": "code",
      "source": [
        "#Super() with multiple inheritance.\n",
        "\n",
        "class Animal:\n",
        "  def __init__(self, Animal):\n",
        "    print(Animal, 'is an animal.');\n",
        "\n",
        "class Mammal(Animal):\n",
        "  def __init__(self, mammalName):\n",
        "    print(mammalName, 'is a warm-blooded animal.')\n",
        "    super().__init__(mammalName)\n",
        "\n",
        "class NonWingedMammal(Mammal):\n",
        "  def __init__(self, NonWingedMammal):\n",
        "    print(NonWingedMammal, \"can't fly.\")\n",
        "    super().__init__(NonWingedMammal)\n",
        "\n",
        "class NonMarineMammal(Mammal):\n",
        "  def __init__(self, NonMarineMammal):\n",
        "    print(NonMarineMammal, \"can't swim.\")\n",
        "    super().__init__(NonMarineMammal)\n",
        "\n",
        "class Dog(NonMarineMammal, NonWingedMammal):\n",
        "  def __init__(self):\n",
        "    print('Dog has 4 legs.');\n",
        "    super().__init__('Dog')\n",
        "\n",
        "d = Dog()\n",
        "print('')\n",
        "bat = NonMarineMammal('Bat')"
      ],
      "metadata": {
        "colab": {
          "base_uri": "https://localhost:8080/"
        },
        "id": "K3qrF9BddvXi",
        "outputId": "d7336b61-9ddb-4bff-af18-48e7556eb7d0"
      },
      "execution_count": null,
      "outputs": [
        {
          "output_type": "stream",
          "name": "stdout",
          "text": [
            "Dog has 4 legs.\n",
            "Dog can't swim.\n",
            "Dog can't fly.\n",
            "Dog is a warm-blooded animal.\n",
            "Dog is an animal.\n",
            "\n",
            "Bat can't swim.\n",
            "Bat is a warm-blooded animal.\n",
            "Bat is an animal.\n"
          ]
        }
      ]
    },
    {
      "cell_type": "code",
      "source": [
        "#*args\n",
        "\n",
        "def adder(*num):\n",
        "  sum=0\n",
        "  for n in num:\n",
        "    sum=sum+n\n",
        "\n",
        "  print(\"Sum is: \", sum)\n",
        "\n",
        "\n",
        "adder(3,5)\n",
        "adder(4,5,6,7)\n",
        "adder(1,2,3,5,6,7)\n"
      ],
      "metadata": {
        "colab": {
          "base_uri": "https://localhost:8080/"
        },
        "id": "-CKAQBXzeDEb",
        "outputId": "3546e21e-99f3-44c2-f10d-b52643a2cc80"
      },
      "execution_count": null,
      "outputs": [
        {
          "output_type": "stream",
          "name": "stdout",
          "text": [
            "Sum is:  8\n",
            "Sum is:  22\n",
            "Sum is:  24\n"
          ]
        }
      ]
    },
    {
      "cell_type": "code",
      "source": [
        "#**kwargs\n",
        "\n",
        "def intro(**data):\n",
        "    print(\"\\nData type of argument:\",type(data))\n",
        "\n",
        "    for key, value in data.items():\n",
        "        print(\"{} is {}\".format(key,value))\n",
        "\n",
        "intro(Firstname=\"Sita\", Lastname=\"Sharma\", Age=22, Phone=1234567890)\n",
        "intro(Firstname=\"John\", Lastname=\"Wood\", Email=\"johnwood@nomail.com\", Country=\"Wakanda\", Age=25, Phone=9876543210)"
      ],
      "metadata": {
        "colab": {
          "base_uri": "https://localhost:8080/"
        },
        "id": "n9E_d6N7e1e7",
        "outputId": "995c09e9-bad0-4346-abea-b1ab6391581e"
      },
      "execution_count": null,
      "outputs": [
        {
          "output_type": "stream",
          "name": "stdout",
          "text": [
            "\n",
            "Data type of argument: <class 'dict'>\n",
            "Firstname is Sita\n",
            "Lastname is Sharma\n",
            "Age is 22\n",
            "Phone is 1234567890\n",
            "\n",
            "Data type of argument: <class 'dict'>\n",
            "Firstname is John\n",
            "Lastname is Wood\n",
            "Email is johnwood@nomail.com\n",
            "Country is Wakanda\n",
            "Age is 25\n",
            "Phone is 9876543210\n"
          ]
        }
      ]
    }
  ],
  "metadata": {
    "colab": {
      "provenance": []
    },
    "kernelspec": {
      "display_name": "Python 3",
      "name": "python3"
    },
    "language_info": {
      "name": "python"
    }
  },
  "nbformat": 4,
  "nbformat_minor": 0
}